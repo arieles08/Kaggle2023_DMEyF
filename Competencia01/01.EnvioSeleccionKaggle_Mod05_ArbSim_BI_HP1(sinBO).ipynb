{
 "cells": [
  {
   "cell_type": "markdown",
   "metadata": {
    "tags": []
   },
   "source": [
    "# Arbol Base 1ra Competencia"
   ]
  },
  {
   "cell_type": "markdown",
   "metadata": {
    "tags": []
   },
   "source": [
    "### 01) Carga de librerias y Datos"
   ]
  },
  {
   "cell_type": "code",
   "execution_count": 1,
   "metadata": {},
   "outputs": [
    {
     "name": "stderr",
     "output_type": "stream",
     "text": [
      "Loading required package: data.table\n",
      "\n",
      "Loading required package: rpart\n",
      "\n",
      "Loading required package: rpart.plot\n",
      "\n"
     ]
    }
   ],
   "source": [
    "# Arbol elemental con libreria  rpart\n",
    "# Debe tener instaladas las librerias  data.table  ,  rpart  y  rpart.plot\n",
    "\n",
    "# cargo las librerias que necesito\n",
    "require(\"data.table\")\n",
    "require(\"rpart\")\n",
    "require(\"rpart.plot\") #Aqui se debe poner la ruta de la PC local"
   ]
  },
  {
   "cell_type": "code",
   "execution_count": 2,
   "metadata": {},
   "outputs": [
    {
     "name": "stdout",
     "output_type": "stream",
     "text": [
      "[1] 491063    155\n"
     ]
    }
   ],
   "source": [
    "# Aqui se debe poner la carpeta de la materia de SU computadora local (el Working Directory)\n",
    "setwd(\"C:\\\\Users\\\\leandro.morinigo\\\\OneDrive - Accenture\\\\! DM en Econ y Fin 2023\\\\\") \n",
    "\n",
    "#cargo el dataset\n",
    "dataset <- fread(\"./datasets/competencia_01.csv\") \n",
    "\n",
    "print(dim(dataset))"
   ]
  },
  {
   "cell_type": "code",
   "execution_count": 3,
   "metadata": {},
   "outputs": [
    {
     "data": {
      "text/plain": [
       "\n",
       "202103 202104 202105 \n",
       "163324 163637 164102 "
      ]
     },
     "metadata": {},
     "output_type": "display_data"
    }
   ],
   "source": [
    "# minima exploración por fecha\n",
    "table(dataset$foto_mes)"
   ]
  },
  {
   "cell_type": "code",
   "execution_count": 4,
   "metadata": {},
   "outputs": [
    {
     "data": {
      "text/plain": [
       "        \n",
       "                BAJA+1 BAJA+2 Continua\n",
       "  202103      0   1049    963   161312\n",
       "  202104   1363      0    963   161311\n",
       "  202105   2790      0      0   161312"
      ]
     },
     "metadata": {},
     "output_type": "display_data"
    }
   ],
   "source": [
    "# minima exploración por fecha y target\n",
    "table(dataset$foto_mes, dataset$clase_ternaria )"
   ]
  },
  {
   "cell_type": "markdown",
   "metadata": {
    "tags": []
   },
   "source": [
    "### 02) FEATURE ENGINEERING"
   ]
  },
  {
   "cell_type": "code",
   "execution_count": 5,
   "metadata": {},
   "outputs": [],
   "source": [
    "#Reglas arbol simple sin 2 variables vinculadas: -ctrx_quarter -active_quarter\n",
    "dataset[  , z1 :=  as.integer(mcaja_ahorro<343&mtarjeta_visa_consumo<1257&mprestamos_personales<12840&ctarjeta_master<0.5) ]\n",
    "dataset[  , z2 :=  as.integer(mcaja_ahorro<343&mtarjeta_visa_consumo<1257&mprestamos_personales<12840&ctarjeta_master>=0.5) ]\n",
    "dataset[  , z3 :=  as.integer(mcaja_ahorro>=343&mtarjeta_visa_consumo<3215&mpasivos_margen<183&cpayroll_trx<0.5) ]\n",
    "dataset[  , z4 :=  as.integer(mcaja_ahorro<343&mtarjeta_visa_consumo>=1257&cprestamos_personales<0.5&mautoservicio<699) ]\n",
    "\n",
    "dataset[  , z5 :=  as.integer(mcaja_ahorro>=343&mpasivos_margen<183&cpayroll_trx>=0.5&mcomisiones_mantenimiento>=1770) ]\n",
    "dataset[  , z6 :=  as.integer(mcaja_ahorro<343&mtarjeta_visa_consumo<1257&mprestamos_personales>=12840&cdescubierto_preacordado<0.5) ]\n",
    "dataset[  , z7 :=  as.integer(mcaja_ahorro>=343&mtarjeta_visa_consumo<1840&mpasivos_margen>=183&cpayroll_trx<0.5) ]\n",
    "dataset[  , z8 :=  as.integer(mcaja_ahorro>=343&mtarjeta_visa_consumo>=3215&mpasivos_margen<183&cpayroll_trx<0.5) ]\n",
    "\n",
    "dataset[  , z9 :=  as.integer (mcaja_ahorro>=343&mpasivos_margen>=183&cpayroll_trx>=0.5) ]\n",
    "dataset[  , z10 :=  as.integer(mcaja_ahorro<343&mtarjeta_visa_consumo<1257&mprestamos_personales>=12840&cdescubierto_preacordado>=0.5) ]\n",
    "dataset[  , z11 :=  as.integer(mcaja_ahorro<343&mtarjeta_visa_consumo>=1257&cprestamos_personales<0.5&mautoservicio>=699) ]\n",
    "dataset[  , z12 :=  as.integer(mcaja_ahorro>=343&mtarjeta_visa_consumo>=1840&mpasivos_margen>=183&cpayroll_trx<0.5) ]\n",
    "\n",
    "\n",
    "dataset[  , z13 :=  as.integer(mcaja_ahorro<343&mtarjeta_visa_consumo>=1257&cprestamos_personales>=0.5&Visa_mconsumospesos>=12699) ]\n",
    "dataset[  , z14 :=  as.integer(mcaja_ahorro>=343&mpasivos_margen<183&cpayroll_trx>=0.5&mcomisiones_mantenimiento<1770) ]\n",
    "dataset[  , z15 :=  as.integer(mcaja_ahorro>=343&mpasivos_margen>=183&cpayroll_trx>=0.5&cliente_antiguedad>=3.5) ]\n",
    "dataset[  , z16 :=  as.integer(mcaja_ahorro<343&mtarjeta_visa_consumo>=1257&cprestamos_personales>=0.5&Visa_mconsumospesos<12699) ]"
   ]
  },
  {
   "cell_type": "markdown",
   "metadata": {
    "tags": []
   },
   "source": [
    "### 02) Modelado Rpart"
   ]
  },
  {
   "cell_type": "code",
   "execution_count": 6,
   "metadata": {},
   "outputs": [],
   "source": [
    "#creo la clase_binaria SI={ BAJA+1, BAJA+2 }    NO={ CONTINUA }\n",
    "dataset[ foto_mes==202103, \n",
    "         clase_binaria :=  ifelse( clase_ternaria==\"Continua\", \"0L\", \"1L\" ) ]"
   ]
  },
  {
   "cell_type": "code",
   "execution_count": 7,
   "metadata": {},
   "outputs": [
    {
     "name": "stdout",
     "output_type": "stream",
     "text": [
      "[1] \"train: 163324 | test: 164102\"\n"
     ]
    }
   ],
   "source": [
    "# SEPARO EN TRAIN(dtrain) Y TEST(dapply):\n",
    "dtrain <- dataset[foto_mes == 202103] # defino donde voy a entrenar\n",
    "dapply <- dataset[foto_mes == 202105] # defino donde voy a aplicar el model\n",
    "\n",
    "print(paste(\"train:\", dim(dtrain)[1], \"| test:\", dim(dapply)[1]))"
   ]
  },
  {
   "cell_type": "markdown",
   "metadata": {
    "tags": []
   },
   "source": [
    "**HIPERPARAMETROS** DEL MODELO"
   ]
  },
  {
   "cell_type": "code",
   "execution_count": 2,
   "metadata": {},
   "outputs": [
    {
     "ename": "ERROR",
     "evalue": "Error in rpart(formula = \"clase_binaria ~ . -clase_ternaria\", data = dtrain, : no se pudo encontrar la función \"rpart\"\n",
     "output_type": "error",
     "traceback": [
      "Error in rpart(formula = \"clase_binaria ~ . -clase_ternaria\", data = dtrain, : no se pudo encontrar la función \"rpart\"\nTraceback:\n"
     ]
    }
   ],
   "source": [
    "# genero el modelo,  aqui se construye el arbol\n",
    "# quiero predecir clase_ternaria a partir de el resto de las variables\n",
    "# Estos Hiperparametros NO se obtuvieron de una BO, los puse de base segun resultados de GridSearchs de las primeras clases\n",
    "modelo  <- rpart(formula=   \"clase_binaria ~ . -clase_ternaria\",\n",
    "                 data=      dtrain,  #los datos donde voy a entrenar\n",
    "                 xval=         0,\n",
    "                 cp=          -1,   # esto significa no limitar la complejidad de los splits\n",
    "                 minsplit=  100,    # minima cantidad de registros para que se haga el split  \n",
    "                 minbucket=  100,   # tamaño minimo de una hoja  \n",
    "                 maxdepth=     12 ) # profundidad maxima del arbol"
   ]
  },
  {
   "cell_type": "markdown",
   "metadata": {
    "tags": []
   },
   "source": [
    "### 03) Prediccion"
   ]
  },
  {
   "cell_type": "code",
   "execution_count": 9,
   "metadata": {},
   "outputs": [],
   "source": [
    "# aplico el modelo a los datos nuevos\n",
    "prediccion <- predict(\n",
    "        object = modelo,\n",
    "        newdata = dapply,\n",
    "        type = \"prob\"\n",
    ")"
   ]
  },
  {
   "cell_type": "code",
   "execution_count": 10,
   "metadata": {},
   "outputs": [
    {
     "data": {
      "text/html": [
       "<table class=\"dataframe\">\n",
       "<caption>A matrix: 2 × 2 of type dbl</caption>\n",
       "<thead>\n",
       "\t<tr><th></th><th scope=col>0L</th><th scope=col>1L</th></tr>\n",
       "</thead>\n",
       "<tbody>\n",
       "\t<tr><th scope=row>1</th><td>0.9996777</td><td>0.0003222959</td></tr>\n",
       "\t<tr><th scope=row>2</th><td>0.9985183</td><td>0.0014817086</td></tr>\n",
       "</tbody>\n",
       "</table>\n"
      ],
      "text/latex": [
       "A matrix: 2 × 2 of type dbl\n",
       "\\begin{tabular}{r|ll}\n",
       "  & 0L & 1L\\\\\n",
       "\\hline\n",
       "\t1 & 0.9996777 & 0.0003222959\\\\\n",
       "\t2 & 0.9985183 & 0.0014817086\\\\\n",
       "\\end{tabular}\n"
      ],
      "text/markdown": [
       "\n",
       "A matrix: 2 × 2 of type dbl\n",
       "\n",
       "| <!--/--> | 0L | 1L |\n",
       "|---|---|---|\n",
       "| 1 | 0.9996777 | 0.0003222959 |\n",
       "| 2 | 0.9985183 | 0.0014817086 |\n",
       "\n"
      ],
      "text/plain": [
       "  0L        1L          \n",
       "1 0.9996777 0.0003222959\n",
       "2 0.9985183 0.0014817086"
      ]
     },
     "metadata": {},
     "output_type": "display_data"
    }
   ],
   "source": [
    "# prediccion es una matriz con DOS columnas,\n",
    "# cada columna es el vector de probabilidades\n",
    "head(prediccion, n=2)"
   ]
  },
  {
   "cell_type": "code",
   "execution_count": 11,
   "metadata": {},
   "outputs": [
    {
     "data": {
      "text/html": [
       "<table class=\"dataframe\">\n",
       "<caption>A data.frame: 3 × 2</caption>\n",
       "<thead>\n",
       "\t<tr><th></th><th scope=col>0L</th><th scope=col>1L</th></tr>\n",
       "\t<tr><th></th><th scope=col>&lt;dbl&gt;</th><th scope=col>&lt;dbl&gt;</th></tr>\n",
       "</thead>\n",
       "<tbody>\n",
       "\t<tr><th scope=row>161</th><td>0.4666667</td><td>0.5333333</td></tr>\n",
       "\t<tr><th scope=row>886</th><td>0.4666667</td><td>0.5333333</td></tr>\n",
       "\t<tr><th scope=row>5507</th><td>0.4666667</td><td>0.5333333</td></tr>\n",
       "</tbody>\n",
       "</table>\n"
      ],
      "text/latex": [
       "A data.frame: 3 × 2\n",
       "\\begin{tabular}{r|ll}\n",
       "  & 0L & 1L\\\\\n",
       "  & <dbl> & <dbl>\\\\\n",
       "\\hline\n",
       "\t161 & 0.4666667 & 0.5333333\\\\\n",
       "\t886 & 0.4666667 & 0.5333333\\\\\n",
       "\t5507 & 0.4666667 & 0.5333333\\\\\n",
       "\\end{tabular}\n"
      ],
      "text/markdown": [
       "\n",
       "A data.frame: 3 × 2\n",
       "\n",
       "| <!--/--> | 0L &lt;dbl&gt; | 1L &lt;dbl&gt; |\n",
       "|---|---|---|\n",
       "| 161 | 0.4666667 | 0.5333333 |\n",
       "| 886 | 0.4666667 | 0.5333333 |\n",
       "| 5507 | 0.4666667 | 0.5333333 |\n",
       "\n"
      ],
      "text/plain": [
       "     0L        1L       \n",
       "161  0.4666667 0.5333333\n",
       "886  0.4666667 0.5333333\n",
       "5507 0.4666667 0.5333333"
      ]
     },
     "metadata": {},
     "output_type": "display_data"
    }
   ],
   "source": [
    "# la ordeno de mayor a menor prob de baja+2\n",
    "prediccion_df <- as.data.frame(prediccion)\n",
    "\n",
    "head(prediccion_df[order(-prediccion_df$`1L`), ], n=3)"
   ]
  },
  {
   "cell_type": "code",
   "execution_count": 12,
   "metadata": {},
   "outputs": [
    {
     "data": {
      "text/html": [
       "<table class=\"dataframe\">\n",
       "<caption>A data.table: 3 × 2</caption>\n",
       "<thead>\n",
       "\t<tr><th scope=col>numero_de_cliente</th><th scope=col>prob_SI</th></tr>\n",
       "\t<tr><th scope=col>&lt;int&gt;</th><th scope=col>&lt;dbl&gt;</th></tr>\n",
       "</thead>\n",
       "<tbody>\n",
       "\t<tr><td>29183981</td><td>0.0003222959</td></tr>\n",
       "\t<tr><td>29184630</td><td>0.0014817086</td></tr>\n",
       "\t<tr><td>29185433</td><td>0.0050722800</td></tr>\n",
       "</tbody>\n",
       "</table>\n"
      ],
      "text/latex": [
       "A data.table: 3 × 2\n",
       "\\begin{tabular}{ll}\n",
       " numero\\_de\\_cliente & prob\\_SI\\\\\n",
       " <int> & <dbl>\\\\\n",
       "\\hline\n",
       "\t 29183981 & 0.0003222959\\\\\n",
       "\t 29184630 & 0.0014817086\\\\\n",
       "\t 29185433 & 0.0050722800\\\\\n",
       "\\end{tabular}\n"
      ],
      "text/markdown": [
       "\n",
       "A data.table: 3 × 2\n",
       "\n",
       "| numero_de_cliente &lt;int&gt; | prob_SI &lt;dbl&gt; |\n",
       "|---|---|\n",
       "| 29183981 | 0.0003222959 |\n",
       "| 29184630 | 0.0014817086 |\n",
       "| 29185433 | 0.0050722800 |\n",
       "\n"
      ],
      "text/plain": [
       "  numero_de_cliente prob_SI     \n",
       "1 29183981          0.0003222959\n",
       "2 29184630          0.0014817086\n",
       "3 29185433          0.0050722800"
      ]
     },
     "metadata": {},
     "output_type": "display_data"
    }
   ],
   "source": [
    "# creo un df dfinal, que solo tiene el numero de cliente y la probabilidad para BAJA+2 = 1L\n",
    "dfinal  <- copy( dapply[ , list(numero_de_cliente) ] )\n",
    "dfinal[ , prob_SI := prediccion[ , \"1L\"] ]\n",
    "\n",
    "head(dfinal ,n=3)"
   ]
  },
  {
   "cell_type": "markdown",
   "metadata": {},
   "source": [
    "### 04) Cortes para Envios"
   ]
  },
  {
   "cell_type": "code",
   "execution_count": 13,
   "metadata": {},
   "outputs": [
    {
     "data": {
      "text/html": [
       "<table class=\"dataframe\">\n",
       "<caption>A data.table: 7 × 3</caption>\n",
       "<thead>\n",
       "\t<tr><th scope=col>numero_de_cliente</th><th scope=col>prob_SI</th><th scope=col>azar</th></tr>\n",
       "\t<tr><th scope=col>&lt;int&gt;</th><th scope=col>&lt;dbl&gt;</th><th scope=col>&lt;dbl&gt;</th></tr>\n",
       "</thead>\n",
       "<tbody>\n",
       "\t<tr><td> 79631823</td><td>0.5333333</td><td>0.001370081</td></tr>\n",
       "\t<tr><td> 71876172</td><td>0.5333333</td><td>0.046091142</td></tr>\n",
       "\t<tr><td>123229371</td><td>0.5333333</td><td>0.058287131</td></tr>\n",
       "\t<tr><td>137412888</td><td>0.5333333</td><td>0.062144610</td></tr>\n",
       "\t<tr><td> 35810038</td><td>0.5333333</td><td>0.065692249</td></tr>\n",
       "\t<tr><td>120481498</td><td>0.5333333</td><td>0.068384901</td></tr>\n",
       "\t<tr><td>102356740</td><td>0.5333333</td><td>0.110064665</td></tr>\n",
       "</tbody>\n",
       "</table>\n"
      ],
      "text/latex": [
       "A data.table: 7 × 3\n",
       "\\begin{tabular}{lll}\n",
       " numero\\_de\\_cliente & prob\\_SI & azar\\\\\n",
       " <int> & <dbl> & <dbl>\\\\\n",
       "\\hline\n",
       "\t  79631823 & 0.5333333 & 0.001370081\\\\\n",
       "\t  71876172 & 0.5333333 & 0.046091142\\\\\n",
       "\t 123229371 & 0.5333333 & 0.058287131\\\\\n",
       "\t 137412888 & 0.5333333 & 0.062144610\\\\\n",
       "\t  35810038 & 0.5333333 & 0.065692249\\\\\n",
       "\t 120481498 & 0.5333333 & 0.068384901\\\\\n",
       "\t 102356740 & 0.5333333 & 0.110064665\\\\\n",
       "\\end{tabular}\n"
      ],
      "text/markdown": [
       "\n",
       "A data.table: 7 × 3\n",
       "\n",
       "| numero_de_cliente &lt;int&gt; | prob_SI &lt;dbl&gt; | azar &lt;dbl&gt; |\n",
       "|---|---|---|\n",
       "|  79631823 | 0.5333333 | 0.001370081 |\n",
       "|  71876172 | 0.5333333 | 0.046091142 |\n",
       "| 123229371 | 0.5333333 | 0.058287131 |\n",
       "| 137412888 | 0.5333333 | 0.062144610 |\n",
       "|  35810038 | 0.5333333 | 0.065692249 |\n",
       "| 120481498 | 0.5333333 | 0.068384901 |\n",
       "| 102356740 | 0.5333333 | 0.110064665 |\n",
       "\n"
      ],
      "text/plain": [
       "  numero_de_cliente prob_SI   azar       \n",
       "1  79631823         0.5333333 0.001370081\n",
       "2  71876172         0.5333333 0.046091142\n",
       "3 123229371         0.5333333 0.058287131\n",
       "4 137412888         0.5333333 0.062144610\n",
       "5  35810038         0.5333333 0.065692249\n",
       "6 120481498         0.5333333 0.068384901\n",
       "7 102356740         0.5333333 0.110064665"
      ]
     },
     "metadata": {},
     "output_type": "display_data"
    }
   ],
   "source": [
    "# solo le envio estimulo a los registros con probabilidad de BAJA+2 mayor  a  1/40\n",
    "set.seed(130631)  \n",
    "dfinal[ , azar := runif( nrow(dapply) ) ]\n",
    "\n",
    "# ordeno en forma descentente, y cuando coincide la probabilidad, al azar\n",
    "setorder( dfinal, -prob_SI, azar )\n",
    "\n",
    "\n",
    "head(dfinal ,n=7)"
   ]
  },
  {
   "cell_type": "markdown",
   "metadata": {},
   "source": [
    "### 05) Exporto el archivo con las predicciones"
   ]
  },
  {
   "cell_type": "code",
   "execution_count": 14,
   "metadata": {},
   "outputs": [
    {
     "name": "stderr",
     "output_type": "stream",
     "text": [
      "Warning message in dir.create(\"./exp/\"):\n",
      "\"'.\\exp' already exists\"\n",
      "Warning message in dir.create(\"./exp/KA4120\"):\n",
      "\"'.\\exp\\KA4120' already exists\"\n"
     ]
    }
   ],
   "source": [
    "# primero creo la carpeta donde va el experimento\n",
    "dir.create(\"./exp/\")\n",
    "dir.create(\"./exp/KA4120\")"
   ]
  },
  {
   "cell_type": "code",
   "execution_count": 15,
   "metadata": {},
   "outputs": [],
   "source": [
    "# genero el archivo para Kaggle -> SE SELECCIONO EL CORTE CON 9000 ENVIOS EN KAGGLE (COMPETENCIA 01)\n",
    "for( corte  in  c( 6000, 6500, 7000, 7500, 8000, 8500, 9000, 9500, 10000, 10500, 11000 ) )\n",
    "{\n",
    "  #le envio a los  corte  mejores,  de mayor probabilidad de prob_SI\n",
    "  dfinal[ , Predicted := 0L ]\n",
    "  dfinal[ 1:corte , Predicted := 1L ]\n",
    "\n",
    "\n",
    "  fwrite( dfinal[ , list(numero_de_cliente, Predicted) ], #solo los campos para Kaggle\n",
    "           file= paste0( \"./exp/KA4120/KA4120_005_\",  corte, \".csv\"),\n",
    "           sep=  \",\" )\n",
    "}"
   ]
  },
  {
   "cell_type": "markdown",
   "metadata": {},
   "source": [
    "### 06) Calcular el feature importance\n"
   ]
  },
  {
   "cell_type": "code",
   "execution_count": 16,
   "metadata": {},
   "outputs": [
    {
     "data": {
      "text/html": [
       "<table class=\"dataframe\">\n",
       "<caption>A data.frame: 40 × 2</caption>\n",
       "<thead>\n",
       "\t<tr><th></th><th scope=col>Variable</th><th scope=col>Importancia</th></tr>\n",
       "\t<tr><th></th><th scope=col>&lt;chr&gt;</th><th scope=col>&lt;dbl&gt;</th></tr>\n",
       "</thead>\n",
       "<tbody>\n",
       "\t<tr><th scope=row>z1</th><td>z1                         </td><td>165.965663</td></tr>\n",
       "\t<tr><th scope=row>z2</th><td>z2                         </td><td> 70.736319</td></tr>\n",
       "\t<tr><th scope=row>mrentabilidad</th><td>mrentabilidad              </td><td> 52.270763</td></tr>\n",
       "\t<tr><th scope=row>mcomisiones</th><td>mcomisiones                </td><td> 44.093605</td></tr>\n",
       "\t<tr><th scope=row>mcomisiones_otras</th><td>mcomisiones_otras          </td><td> 41.124170</td></tr>\n",
       "\t<tr><th scope=row>mcomisiones_mantenimiento</th><td>mcomisiones_mantenimiento  </td><td> 40.871593</td></tr>\n",
       "\t<tr><th scope=row>ctrx_quarter</th><td>ctrx_quarter               </td><td> 38.738434</td></tr>\n",
       "\t<tr><th scope=row>mrentabilidad_annual</th><td>mrentabilidad_annual       </td><td> 37.802625</td></tr>\n",
       "\t<tr><th scope=row>z3</th><td>z3                         </td><td> 30.701569</td></tr>\n",
       "\t<tr><th scope=row>mcuentas_saldo</th><td>mcuentas_saldo             </td><td> 30.482196</td></tr>\n",
       "\t<tr><th scope=row>ccomisiones_mantenimiento</th><td>ccomisiones_mantenimiento  </td><td> 29.967282</td></tr>\n",
       "\t<tr><th scope=row>ccajas_consultas</th><td>ccajas_consultas           </td><td> 26.484704</td></tr>\n",
       "\t<tr><th scope=row>mactivos_margen</th><td>mactivos_margen            </td><td> 23.686458</td></tr>\n",
       "\t<tr><th scope=row>cliente_antiguedad</th><td>cliente_antiguedad         </td><td> 20.313374</td></tr>\n",
       "\t<tr><th scope=row>ccajas_transacciones</th><td>ccajas_transacciones       </td><td> 19.636316</td></tr>\n",
       "\t<tr><th scope=row>mcuenta_corriente</th><td>mcuenta_corriente          </td><td> 19.431583</td></tr>\n",
       "\t<tr><th scope=row>mpasivos_margen</th><td>mpasivos_margen            </td><td> 17.732964</td></tr>\n",
       "\t<tr><th scope=row>active_quarter</th><td>active_quarter             </td><td> 16.533750</td></tr>\n",
       "\t<tr><th scope=row>Master_fechaalta</th><td>Master_fechaalta           </td><td> 15.976445</td></tr>\n",
       "\t<tr><th scope=row>z4</th><td>z4                         </td><td> 14.505813</td></tr>\n",
       "\t<tr><th scope=row>ccomisiones_otras</th><td>ccomisiones_otras          </td><td> 14.236293</td></tr>\n",
       "\t<tr><th scope=row>Visa_fechaalta</th><td>Visa_fechaalta             </td><td> 14.112981</td></tr>\n",
       "\t<tr><th scope=row>numero_de_cliente</th><td>numero_de_cliente          </td><td> 13.777551</td></tr>\n",
       "\t<tr><th scope=row>cproductos</th><td>cproductos                 </td><td> 10.211496</td></tr>\n",
       "\t<tr><th scope=row>mprestamos_personales</th><td>mprestamos_personales      </td><td> 10.163196</td></tr>\n",
       "\t<tr><th scope=row>Master_Fvencimiento</th><td>Master_Fvencimiento        </td><td>  8.919390</td></tr>\n",
       "\t<tr><th scope=row>chomebanking_transacciones</th><td>chomebanking_transacciones </td><td>  8.116659</td></tr>\n",
       "\t<tr><th scope=row>mcaja_ahorro</th><td>mcaja_ahorro               </td><td>  7.987566</td></tr>\n",
       "\t<tr><th scope=row>Visa_Fvencimiento</th><td>Visa_Fvencimiento          </td><td>  7.955386</td></tr>\n",
       "\t<tr><th scope=row>Visa_msaldopesos</th><td>Visa_msaldopesos           </td><td>  7.564439</td></tr>\n",
       "\t<tr><th scope=row>Visa_msaldototal</th><td>Visa_msaldototal           </td><td>  7.552948</td></tr>\n",
       "\t<tr><th scope=row>mtarjeta_visa_consumo</th><td>mtarjeta_visa_consumo      </td><td>  7.540038</td></tr>\n",
       "\t<tr><th scope=row>cprestamos_personales</th><td>cprestamos_personales      </td><td>  7.533600</td></tr>\n",
       "\t<tr><th scope=row>Visa_mpagominimo</th><td>Visa_mpagominimo           </td><td>  6.772146</td></tr>\n",
       "\t<tr><th scope=row>Master_mfinanciacion_limite</th><td>Master_mfinanciacion_limite</td><td>  6.547987</td></tr>\n",
       "\t<tr><th scope=row>cdescubierto_preacordado</th><td>cdescubierto_preacordado   </td><td>  6.295103</td></tr>\n",
       "\t<tr><th scope=row>ccajas_otras</th><td>ccajas_otras               </td><td>  6.080564</td></tr>\n",
       "\t<tr><th scope=row>mtransferencias_recibidas</th><td>mtransferencias_recibidas  </td><td>  5.749669</td></tr>\n",
       "\t<tr><th scope=row>ctarjeta_visa_transacciones</th><td>ctarjeta_visa_transacciones</td><td>  5.735092</td></tr>\n",
       "\t<tr><th scope=row>Master_mlimitecompra</th><td>Master_mlimitecompra       </td><td>  5.425260</td></tr>\n",
       "</tbody>\n",
       "</table>\n"
      ],
      "text/latex": [
       "A data.frame: 40 × 2\n",
       "\\begin{tabular}{r|ll}\n",
       "  & Variable & Importancia\\\\\n",
       "  & <chr> & <dbl>\\\\\n",
       "\\hline\n",
       "\tz1 & z1                          & 165.965663\\\\\n",
       "\tz2 & z2                          &  70.736319\\\\\n",
       "\tmrentabilidad & mrentabilidad               &  52.270763\\\\\n",
       "\tmcomisiones & mcomisiones                 &  44.093605\\\\\n",
       "\tmcomisiones\\_otras & mcomisiones\\_otras           &  41.124170\\\\\n",
       "\tmcomisiones\\_mantenimiento & mcomisiones\\_mantenimiento   &  40.871593\\\\\n",
       "\tctrx\\_quarter & ctrx\\_quarter                &  38.738434\\\\\n",
       "\tmrentabilidad\\_annual & mrentabilidad\\_annual        &  37.802625\\\\\n",
       "\tz3 & z3                          &  30.701569\\\\\n",
       "\tmcuentas\\_saldo & mcuentas\\_saldo              &  30.482196\\\\\n",
       "\tccomisiones\\_mantenimiento & ccomisiones\\_mantenimiento   &  29.967282\\\\\n",
       "\tccajas\\_consultas & ccajas\\_consultas            &  26.484704\\\\\n",
       "\tmactivos\\_margen & mactivos\\_margen             &  23.686458\\\\\n",
       "\tcliente\\_antiguedad & cliente\\_antiguedad          &  20.313374\\\\\n",
       "\tccajas\\_transacciones & ccajas\\_transacciones        &  19.636316\\\\\n",
       "\tmcuenta\\_corriente & mcuenta\\_corriente           &  19.431583\\\\\n",
       "\tmpasivos\\_margen & mpasivos\\_margen             &  17.732964\\\\\n",
       "\tactive\\_quarter & active\\_quarter              &  16.533750\\\\\n",
       "\tMaster\\_fechaalta & Master\\_fechaalta            &  15.976445\\\\\n",
       "\tz4 & z4                          &  14.505813\\\\\n",
       "\tccomisiones\\_otras & ccomisiones\\_otras           &  14.236293\\\\\n",
       "\tVisa\\_fechaalta & Visa\\_fechaalta              &  14.112981\\\\\n",
       "\tnumero\\_de\\_cliente & numero\\_de\\_cliente           &  13.777551\\\\\n",
       "\tcproductos & cproductos                  &  10.211496\\\\\n",
       "\tmprestamos\\_personales & mprestamos\\_personales       &  10.163196\\\\\n",
       "\tMaster\\_Fvencimiento & Master\\_Fvencimiento         &   8.919390\\\\\n",
       "\tchomebanking\\_transacciones & chomebanking\\_transacciones  &   8.116659\\\\\n",
       "\tmcaja\\_ahorro & mcaja\\_ahorro                &   7.987566\\\\\n",
       "\tVisa\\_Fvencimiento & Visa\\_Fvencimiento           &   7.955386\\\\\n",
       "\tVisa\\_msaldopesos & Visa\\_msaldopesos            &   7.564439\\\\\n",
       "\tVisa\\_msaldototal & Visa\\_msaldototal            &   7.552948\\\\\n",
       "\tmtarjeta\\_visa\\_consumo & mtarjeta\\_visa\\_consumo       &   7.540038\\\\\n",
       "\tcprestamos\\_personales & cprestamos\\_personales       &   7.533600\\\\\n",
       "\tVisa\\_mpagominimo & Visa\\_mpagominimo            &   6.772146\\\\\n",
       "\tMaster\\_mfinanciacion\\_limite & Master\\_mfinanciacion\\_limite &   6.547987\\\\\n",
       "\tcdescubierto\\_preacordado & cdescubierto\\_preacordado    &   6.295103\\\\\n",
       "\tccajas\\_otras & ccajas\\_otras                &   6.080564\\\\\n",
       "\tmtransferencias\\_recibidas & mtransferencias\\_recibidas   &   5.749669\\\\\n",
       "\tctarjeta\\_visa\\_transacciones & ctarjeta\\_visa\\_transacciones &   5.735092\\\\\n",
       "\tMaster\\_mlimitecompra & Master\\_mlimitecompra        &   5.425260\\\\\n",
       "\\end{tabular}\n"
      ],
      "text/markdown": [
       "\n",
       "A data.frame: 40 × 2\n",
       "\n",
       "| <!--/--> | Variable &lt;chr&gt; | Importancia &lt;dbl&gt; |\n",
       "|---|---|---|\n",
       "| z1 | z1                          | 165.965663 |\n",
       "| z2 | z2                          |  70.736319 |\n",
       "| mrentabilidad | mrentabilidad               |  52.270763 |\n",
       "| mcomisiones | mcomisiones                 |  44.093605 |\n",
       "| mcomisiones_otras | mcomisiones_otras           |  41.124170 |\n",
       "| mcomisiones_mantenimiento | mcomisiones_mantenimiento   |  40.871593 |\n",
       "| ctrx_quarter | ctrx_quarter                |  38.738434 |\n",
       "| mrentabilidad_annual | mrentabilidad_annual        |  37.802625 |\n",
       "| z3 | z3                          |  30.701569 |\n",
       "| mcuentas_saldo | mcuentas_saldo              |  30.482196 |\n",
       "| ccomisiones_mantenimiento | ccomisiones_mantenimiento   |  29.967282 |\n",
       "| ccajas_consultas | ccajas_consultas            |  26.484704 |\n",
       "| mactivos_margen | mactivos_margen             |  23.686458 |\n",
       "| cliente_antiguedad | cliente_antiguedad          |  20.313374 |\n",
       "| ccajas_transacciones | ccajas_transacciones        |  19.636316 |\n",
       "| mcuenta_corriente | mcuenta_corriente           |  19.431583 |\n",
       "| mpasivos_margen | mpasivos_margen             |  17.732964 |\n",
       "| active_quarter | active_quarter              |  16.533750 |\n",
       "| Master_fechaalta | Master_fechaalta            |  15.976445 |\n",
       "| z4 | z4                          |  14.505813 |\n",
       "| ccomisiones_otras | ccomisiones_otras           |  14.236293 |\n",
       "| Visa_fechaalta | Visa_fechaalta              |  14.112981 |\n",
       "| numero_de_cliente | numero_de_cliente           |  13.777551 |\n",
       "| cproductos | cproductos                  |  10.211496 |\n",
       "| mprestamos_personales | mprestamos_personales       |  10.163196 |\n",
       "| Master_Fvencimiento | Master_Fvencimiento         |   8.919390 |\n",
       "| chomebanking_transacciones | chomebanking_transacciones  |   8.116659 |\n",
       "| mcaja_ahorro | mcaja_ahorro                |   7.987566 |\n",
       "| Visa_Fvencimiento | Visa_Fvencimiento           |   7.955386 |\n",
       "| Visa_msaldopesos | Visa_msaldopesos            |   7.564439 |\n",
       "| Visa_msaldototal | Visa_msaldototal            |   7.552948 |\n",
       "| mtarjeta_visa_consumo | mtarjeta_visa_consumo       |   7.540038 |\n",
       "| cprestamos_personales | cprestamos_personales       |   7.533600 |\n",
       "| Visa_mpagominimo | Visa_mpagominimo            |   6.772146 |\n",
       "| Master_mfinanciacion_limite | Master_mfinanciacion_limite |   6.547987 |\n",
       "| cdescubierto_preacordado | cdescubierto_preacordado    |   6.295103 |\n",
       "| ccajas_otras | ccajas_otras                |   6.080564 |\n",
       "| mtransferencias_recibidas | mtransferencias_recibidas   |   5.749669 |\n",
       "| ctarjeta_visa_transacciones | ctarjeta_visa_transacciones |   5.735092 |\n",
       "| Master_mlimitecompra | Master_mlimitecompra        |   5.425260 |\n",
       "\n"
      ],
      "text/plain": [
       "                            Variable                    Importancia\n",
       "z1                          z1                          165.965663 \n",
       "z2                          z2                           70.736319 \n",
       "mrentabilidad               mrentabilidad                52.270763 \n",
       "mcomisiones                 mcomisiones                  44.093605 \n",
       "mcomisiones_otras           mcomisiones_otras            41.124170 \n",
       "mcomisiones_mantenimiento   mcomisiones_mantenimiento    40.871593 \n",
       "ctrx_quarter                ctrx_quarter                 38.738434 \n",
       "mrentabilidad_annual        mrentabilidad_annual         37.802625 \n",
       "z3                          z3                           30.701569 \n",
       "mcuentas_saldo              mcuentas_saldo               30.482196 \n",
       "ccomisiones_mantenimiento   ccomisiones_mantenimiento    29.967282 \n",
       "ccajas_consultas            ccajas_consultas             26.484704 \n",
       "mactivos_margen             mactivos_margen              23.686458 \n",
       "cliente_antiguedad          cliente_antiguedad           20.313374 \n",
       "ccajas_transacciones        ccajas_transacciones         19.636316 \n",
       "mcuenta_corriente           mcuenta_corriente            19.431583 \n",
       "mpasivos_margen             mpasivos_margen              17.732964 \n",
       "active_quarter              active_quarter               16.533750 \n",
       "Master_fechaalta            Master_fechaalta             15.976445 \n",
       "z4                          z4                           14.505813 \n",
       "ccomisiones_otras           ccomisiones_otras            14.236293 \n",
       "Visa_fechaalta              Visa_fechaalta               14.112981 \n",
       "numero_de_cliente           numero_de_cliente            13.777551 \n",
       "cproductos                  cproductos                   10.211496 \n",
       "mprestamos_personales       mprestamos_personales        10.163196 \n",
       "Master_Fvencimiento         Master_Fvencimiento           8.919390 \n",
       "chomebanking_transacciones  chomebanking_transacciones    8.116659 \n",
       "mcaja_ahorro                mcaja_ahorro                  7.987566 \n",
       "Visa_Fvencimiento           Visa_Fvencimiento             7.955386 \n",
       "Visa_msaldopesos            Visa_msaldopesos              7.564439 \n",
       "Visa_msaldototal            Visa_msaldototal              7.552948 \n",
       "mtarjeta_visa_consumo       mtarjeta_visa_consumo         7.540038 \n",
       "cprestamos_personales       cprestamos_personales         7.533600 \n",
       "Visa_mpagominimo            Visa_mpagominimo              6.772146 \n",
       "Master_mfinanciacion_limite Master_mfinanciacion_limite   6.547987 \n",
       "cdescubierto_preacordado    cdescubierto_preacordado      6.295103 \n",
       "ccajas_otras                ccajas_otras                  6.080564 \n",
       "mtransferencias_recibidas   mtransferencias_recibidas     5.749669 \n",
       "ctarjeta_visa_transacciones ctarjeta_visa_transacciones   5.735092 \n",
       "Master_mlimitecompra        Master_mlimitecompra          5.425260 "
      ]
     },
     "metadata": {},
     "output_type": "display_data"
    }
   ],
   "source": [
    "# Calcular el feature importance\n",
    "importancia <- modelo$variable.importance\n",
    "importancia <- data.frame(Variable = names(importancia), Importancia = importancia)\n",
    "\n",
    "head(importancia, n=40)"
   ]
  },
  {
   "cell_type": "code",
   "execution_count": 17,
   "metadata": {},
   "outputs": [],
   "source": [
    "fwrite(importancia,\n",
    "        file = \"./exp/KA4120/KA4120_005_FeImportance.csv\",\n",
    "        sep = \",\")"
   ]
  }
 ],
 "metadata": {
  "kernelspec": {
   "display_name": "R",
   "language": "R",
   "name": "ir"
  },
  "language_info": {
   "codemirror_mode": "r",
   "file_extension": ".r",
   "mimetype": "text/x-r-source",
   "name": "R",
   "pygments_lexer": "r",
   "version": "4.2.2"
  }
 },
 "nbformat": 4,
 "nbformat_minor": 4
}
