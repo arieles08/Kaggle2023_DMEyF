{
 "cells": [
  {
   "cell_type": "markdown",
   "metadata": {
    "tags": []
   },
   "source": [
    "# Arbol Final 1ra Competencia"
   ]
  },
  {
   "cell_type": "markdown",
   "metadata": {
    "tags": []
   },
   "source": [
    "### 01) Carga de librerias y Datos"
   ]
  },
  {
   "cell_type": "code",
   "execution_count": 1,
   "metadata": {},
   "outputs": [
    {
     "name": "stderr",
     "output_type": "stream",
     "text": [
      "Loading required package: data.table\n",
      "\n",
      "Loading required package: rpart\n",
      "\n",
      "Loading required package: rpart.plot\n",
      "\n"
     ]
    }
   ],
   "source": [
    "# Arbol elemental con libreria  rpart\n",
    "# Debe tener instaladas las librerias  data.table  ,  rpart  y  rpart.plot\n",
    "\n",
    "# cargo las librerias que necesito\n",
    "require(\"data.table\")\n",
    "require(\"rpart\")\n",
    "require(\"rpart.plot\") #Aqui se debe poner la ruta de la PC local"
   ]
  },
  {
   "cell_type": "code",
   "execution_count": 2,
   "metadata": {},
   "outputs": [
    {
     "name": "stdout",
     "output_type": "stream",
     "text": [
      "[1] 491063    155\n"
     ]
    }
   ],
   "source": [
    "# Aqui se debe poner la carpeta de la materia de SU computadora local (el Working Directory)\n",
    "setwd(\"C:\\\\Users\\\\leandro.morinigo\\\\OneDrive - Accenture\\\\! DM en Econ y Fin 2023\\\\\") \n",
    "\n",
    "#cargo el dataset\n",
    "dataset <- fread(\"./datasets/competencia_01.csv\") \n",
    "\n",
    "print(dim(dataset))"
   ]
  },
  {
   "cell_type": "code",
   "execution_count": 3,
   "metadata": {},
   "outputs": [
    {
     "data": {
      "text/plain": [
       "\n",
       "202103 202104 202105 \n",
       "163324 163637 164102 "
      ]
     },
     "metadata": {},
     "output_type": "display_data"
    }
   ],
   "source": [
    "# minima exploración por fecha\n",
    "table(dataset$foto_mes)"
   ]
  },
  {
   "cell_type": "code",
   "execution_count": 4,
   "metadata": {},
   "outputs": [
    {
     "data": {
      "text/plain": [
       "        \n",
       "                BAJA+1 BAJA+2 Continua\n",
       "  202103      0   1049    963   161312\n",
       "  202104   1363      0    963   161311\n",
       "  202105   2790      0      0   161312"
      ]
     },
     "metadata": {},
     "output_type": "display_data"
    }
   ],
   "source": [
    "# minima exploración por fecha y target\n",
    "table(dataset$foto_mes, dataset$clase_ternaria )"
   ]
  },
  {
   "cell_type": "markdown",
   "metadata": {
    "tags": []
   },
   "source": [
    "### 02) FEATURE ENGINEERING"
   ]
  },
  {
   "cell_type": "code",
   "execution_count": 5,
   "metadata": {},
   "outputs": [],
   "source": [
    "# Corrige clientes con menos de 90 dias de antiguedad (al ser una medida trimestral)\n",
    "#ctrx_quarter_fix\n",
    "  dataset[  , ctrx_quarter_fix := ctrx_quarter ]\n",
    "  dataset[ cliente_antiguedad==1 , ctrx_quarter_fix := ctrx_quarter * 3 ]\n",
    "  dataset[ cliente_antiguedad==2 , ctrx_quarter_fix := ctrx_quarter * 2 ]"
   ]
  },
  {
   "cell_type": "code",
   "execution_count": 6,
   "metadata": {},
   "outputs": [],
   "source": [
    "#Var del Top 20 que puedan servir en relacion a la edad y edad^2\n",
    "# ctrx_quarter_fixed\n",
    "  dataset[ , ctrx_quarter_fix_edad := ctrx_quarter_fix / cliente_edad ]\n",
    "  dataset[ , ctrx_quarter_fix_edad2 := ctrx_quarter / cliente_edad^2]\n",
    "\n",
    "# mprestamos_personales\n",
    "  dataset[ ,mprestamos_personales_edad := mprestamos_personales  / cliente_edad ]\n",
    "  dataset[ ,mprestamos_personales_edad2 := mprestamos_personales  / cliente_edad^2 ]\n",
    "\n",
    "# mactivos_margen\n",
    "  dataset[ ,mactivos_margen_edad := mactivos_margen  / cliente_edad ]\n",
    "  dataset[ ,mactivos_margen_edad2 := mactivos_margen  / cliente_edad^2 ]\n",
    "\n",
    "# mcomisiones\n",
    "  dataset[ ,mcomisiones_edad := mcomisiones  / cliente_edad ]\n",
    "  dataset[ ,mcomisiones_edad2 := mcomisiones  / cliente_edad^2 ]\n",
    "\n",
    "# mpayroll\n",
    "  dataset[ ,mpayroll_edad := mpayroll  / cliente_edad ]\n",
    "  dataset[ ,mpayroll_edad2 := mpayroll  / cliente_edad^2 ]"
   ]
  },
  {
   "cell_type": "raw",
   "metadata": {},
   "source": [
    " #Variables:\n",
    "    #Actividad: ctrx_quarter_fix, cproductos\n",
    "\n",
    "    #Cuentas:(mcuentas_saldo, mcuenta_corriente, mcaja_ahorro) \n",
    "\n",
    "    #Prestamos: mprestamos_personales, cprestamos_personales\n",
    "\n",
    "    #Cliente: (ingreso) mpayroll / cliente_antiguedad\n",
    "\n",
    "    #Rentabilidad: mactivos_margen, mpasivos_margen,  mcomisiones_mantenimiento, mrentabilidad, mrentabilidad_annual\n",
    "\n",
    "    #Tarjetas de Credito:\n",
    "       #VISA\n",
    "        #Deuda: (Visa_msaldototal, Visa_msaldopesos) / Visa_mpagominimo | \n",
    "                (Master_msaldototal, Master_msaldopesos) / Master_mpagominimo\n",
    "        #Consumo: mtarjeta_visa_consumo, mtarjeta_master_consumo, ctarjeta_visa, ctarjeta_master\n",
    "        #Pago: Visa_mpagado , Master_mpagado\n",
    "        #ratios de pago: Visa_mpagado/Visa_msaldototal , Visa_mpagado/Visa_mconsumospesos, Visa_mpagado/Visa_mpagominimo\n",
    "                        #Master_mpagado/Master_msaldototal, Master_mpagado/Master_mconsumospesos, Master_mpagado/Master_mpagominimo\n",
    "        #limites: Visa_mlimitecompra / Master_mlimitecompra"
   ]
  },
  {
   "cell_type": "code",
   "execution_count": 7,
   "metadata": {},
   "outputs": [],
   "source": [
    "# ACTIVIDAD: diferencia a la media al cuadrado\n",
    "avg_ctrx_quarter_fix <- mean(dataset$ctrx_quarter_fix, na.rm = TRUE)\n",
    "dataset[, ctrx_quarter_fix_square := (ctrx_quarter_fix - avg_ctrx_quarter_fix)^2]\n",
    "\n",
    "\n",
    "#SALDO CUENTAS: Distancias\n",
    "# mcuentas_saldo - mcaja_ahorro\n",
    "dataset[, saldo_minus_caja := mcuentas_saldo - mcaja_ahorro]\n",
    "\n",
    "# mcuentas_saldo - mcuenta_corriente\n",
    "dataset[, saldo_minus_corriente := mcuentas_saldo - mcuenta_corriente]\n",
    "\n",
    "# mcaja_ahorro - mcuenta_corriente\n",
    "dataset[, caja_minus_corriente := mcaja_ahorro - mcuenta_corriente]\n",
    "\n",
    "# mcuentas_saldo - mpayroll\n",
    "dataset[, saldo_minus_payroll := mcuentas_saldo - mpayroll]\n",
    "\n",
    "\n",
    "\n",
    "#PRESTAMOS: Ratios y Distancias\n",
    "# mprestamos_personales / cprestamos_personales\n",
    "dataset[, prestamos_ratio := ifelse(cprestamos_personales == 0, 100, mprestamos_personales / cprestamos_personales)]\n",
    "\n",
    "# mprestamos_personales / mcuentas_saldo\n",
    "dataset[, prestamos_saldo_ratio := ifelse(mcuentas_saldo <= 0, 100, mprestamos_personales / mcuentas_saldo)]\n",
    "\n",
    "# mprestamos_personales - mcuentas_saldo\n",
    "dataset[, prestamos_minus_saldo := mprestamos_personales - mcuentas_saldo]\n",
    "\n",
    "# mprestamos_personales - max(0, mcuentas_saldo)\n",
    "dataset[, prestamos_minus_nonnegative_saldo := mprestamos_personales - pmax(0, mcuentas_saldo)]\n",
    "\n",
    "# mprestamos_personales / mpayroll\n",
    "dataset[, prestamos_payroll_ratio := ifelse(mpayroll <= 0, 100, mprestamos_personales / mpayroll)]\n",
    "\n",
    "# mprestamos_personales / cliente_antiguedad\n",
    "dataset[, prestamos_antiguedad_ratio := ifelse(cliente_antiguedad <= 0, 100, mprestamos_personales / cliente_antiguedad)]\n",
    "\n",
    "\n",
    "\n",
    "#RENTABILIDAD: Ratios y Distancias\n",
    "# mrentabilidad - mcomisiones_mantenimiento\n",
    "dataset[, rentabilidad_minus_comisiones := mrentabilidad - mcomisiones_mantenimiento]\n",
    "\n",
    "# mrentabilidad / mcomisiones_mantenimiento\n",
    "dataset[, rentabilidad_divided_by_comisiones := ifelse(mcomisiones_mantenimiento == 0, 100, mrentabilidad / mcomisiones_mantenimiento)]\n",
    "\n",
    "# mrentabilidad - mactivos_margen\n",
    "dataset[, rentabilidad_minus_activos := mrentabilidad - mactivos_margen]\n",
    "\n",
    "# mrentabilidad / mactivos_margen\n",
    "dataset[, rentabilidad_divided_by_activos := ifelse(mactivos_margen <= 0, 100, mrentabilidad / mactivos_margen)]\n",
    "\n",
    "# mrentabilidad - mpasivos_margen\n",
    "dataset[, rentabilidad_minus_pasivos := mrentabilidad - mpasivos_margen]\n",
    "\n",
    "# mrentabilidad / mpasivos_margen\n",
    "dataset[, rentabilidad_divided_by_pasivos := ifelse(mpasivos_margen <= 0, 100, mrentabilidad / mpasivos_margen)]\n",
    "\n",
    "# mrentabilidad / ctrx_quarter_fix\n",
    "dataset[, rentabilidad_divided_by_ctrx := ifelse(ctrx_quarter_fix == 0, 100, mrentabilidad / ctrx_quarter_fix)]\n",
    "\n",
    "# mrentabilidad / (ctrx_quarter_fix - avg_ctrx_quarter_fix)^2\n",
    "dataset[, rentabilidad_divided_by_square := ifelse(ctrx_quarter_fix_square == 0, 100, mrentabilidad / (ctrx_quarter_fix - avg_ctrx_quarter_fix)^2)]\n",
    "\n",
    "# mcomisiones_mantenimiento / ctrx_quarter_fix\n",
    "dataset[, comisiones_divided_by_ctrx := ifelse(ctrx_quarter_fix == 0, 100, mcomisiones_mantenimiento / ctrx_quarter_fix)]\n",
    "\n",
    "# mcomisiones_mantenimiento / (ctrx_quarter_fix - avg_ctrx_quarter_fix)^2\n",
    "dataset[, comisiones_divided_by_square := ifelse(ctrx_quarter_fix_square == 0, 100, mcomisiones_mantenimiento / (ctrx_quarter_fix - avg_ctrx_quarter_fix)^2)]\n",
    "\n",
    "# mrentabilidad_annual / mrentabilidad\n",
    "dataset[, rentabilidad_annual_divided_by_rentabilidad := ifelse(mrentabilidad == 0, 100, mrentabilidad_annual / mrentabilidad)]\n",
    "\n",
    "# mrentabilidad_annual / mcomisiones_mantenimiento\n",
    "dataset[, rentabilidad_annual_divided_by_comisiones := ifelse(mcomisiones_mantenimiento == 0, 100, mrentabilidad_annual / mcomisiones_mantenimiento)]\n",
    "\n",
    "\n",
    "# TARJETAS:\n",
    "# Cantidad de tarjetas total sum(ctarjeta_visa, ctarjeta_master)\n",
    "dataset[, ctarjetas := rowSums(.SD, na.rm = TRUE), .SDcols = c(\"ctarjeta_visa\", \"ctarjeta_master\")]\n",
    "\n",
    "# sum(Visa_mlimitecompra, Master_mlimitecompra)\n",
    "dataset[, suma_limites := Visa_mlimitecompra + Master_mlimitecompra]\n",
    "\n",
    "# sum(Visa_msaldototal,Master_msaldototal)\n",
    "dataset[, suma_saldos_total := Visa_msaldototal + Master_msaldototal]\n",
    "# sum(Visa_msaldototal,Master_msaldototal) / mpayroll\n",
    "dataset[, suma_saldos_total_divided_by_payroll := ifelse(mpayroll <= 0, 100, suma_saldos_total / mpayroll)]\n",
    "# sum(Visa_msaldototal,Master_msaldototal) / mcuentas_saldo\n",
    "dataset[, suma_saldos_total_divided_by_saldo := ifelse(mcuentas_saldo <= 0, 100, suma_saldos_total / mcuentas_saldo)]\n",
    "# sum(Visa_msaldototal,Master_msaldototal) / sum(Visa_mlimitecompra, Master_mlimitecompra)\n",
    "dataset[, suma_saldos_total_divided_by_limites := ifelse(suma_limites == 0, 100, suma_saldos_total / suma_limites)]\n",
    "\n",
    "# sum(Visa_msaldopesos,Master_msaldopesos)\n",
    "dataset[, suma_saldos_pesos := Visa_msaldopesos + Master_msaldopesos]\n",
    "# sum(Visa_msaldopesos,Master_msaldopesos) / mpayroll\n",
    "dataset[, suma_saldos_pesos_divided_by_payroll := ifelse(mpayroll <= 0, 100, suma_saldos_pesos / mpayroll)]\n",
    "# sum(Visa_msaldopesos,Master_msaldopesos) / mcuentas_saldo\n",
    "dataset[, suma_saldos_pesos_divided_by_saldo := ifelse(mcuentas_saldo <= 0, 100, suma_saldos_pesos / mcuentas_saldo)]\n",
    "# sum(Visa_msaldopesos,Master_msaldopesos) / sum(Visa_mlimitecompra, Master_mlimitecompra)\n",
    "dataset[, suma_saldos_pesos_divided_by_limites := ifelse(suma_limites == 0, 100, suma_saldos_pesos / suma_limites)]\n",
    "\n",
    "# sum(Visa_mpagominimo,Master_mpagominimo)\n",
    "dataset[, suma_pagos_minimos := Visa_mpagominimo + Master_mpagominimo]\n",
    "# sum(Visa_mpagominimo,Master_mpagominimo) / mpayroll\n",
    "dataset[, suma_pagos_minimos_divided_by_payroll := ifelse(mpayroll <= 0, 100, suma_pagos_minimos / mpayroll)]\n",
    "# sum(Visa_mpagominimo,Master_mpagominimo) / mcuentas_saldo\n",
    "dataset[, suma_pagos_minimos_divided_by_saldo := ifelse(mcuentas_saldo <= 0, 100, suma_pagos_minimos / mcuentas_saldo)]\n",
    "# sum(mtarjeta_visa_consumo, mtarjeta_master_consumo)\n",
    "dataset[, suma_consumos := mtarjeta_visa_consumo + mtarjeta_master_consumo]\n",
    "\n",
    "# sum(mtarjeta_visa_consumo, mtarjeta_master_consumo) / sum(ctarjeta_visa, ctarjeta_master)\n",
    "dataset[, suma_consumos_divided_by_tarjetas := ifelse(ctarjetas == 0, 100, suma_consumos / ctarjetas)]\n",
    "# sum(mtarjeta_visa_consumo, mtarjeta_master_consumo) / mpayroll\n",
    "dataset[, suma_consumos_divided_by_payroll := ifelse(mpayroll <= 0, 100, suma_consumos / mpayroll)]\n",
    "# sum(mtarjeta_visa_consumo, mtarjeta_master_consumo) / mcuentas_saldo\n",
    "dataset[, suma_consumos_divided_by_saldo := ifelse(mcuentas_saldo <= 0, 100, suma_consumos / mcuentas_saldo)]\n",
    "# sum(mtarjeta_visa_consumo, mtarjeta_master_consumo) / sum(Visa_mlimitecompra, Master_mlimitecompra)\n",
    "dataset[, suma_consumos_divided_by_limites := ifelse(suma_limites == 0, 100, suma_consumos / suma_limites)]\n",
    "\n",
    "# sum(Visa_mpagado , Master_mpagado)\n",
    "dataset[, suma_pagado := Visa_mpagado + Master_mpagado]\n",
    "# sum(Visa_mpagado , Master_mpagado) - sum(Visa_msaldototal,Master_msaldototal)\n",
    "dataset[, suma_pagado_minus_saldos := suma_pagado - suma_saldos_total]\n",
    "# sum(Visa_mpagado , Master_mpagado) - sum(Visa_msaldopesos,Master_msaldopesos)\n",
    "dataset[, suma_pagado_minus_saldos_pesos := suma_pagado - suma_saldos_pesos]\n",
    "# sum(Visa_mpagado , Master_mpagado) - sum(mtarjeta_visa_consumo, mtarjeta_master_consumo)\n",
    "dataset[, suma_pagado_minus_consumos := suma_pagado - suma_consumos]\n",
    "# sum(Visa_mpagado , Master_mpagado) - mpayroll \n",
    "dataset[, suma_pagado_minus_consumos_pesos := suma_pagado - mpayroll ]\n",
    "\n",
    "# RATIOS DE PAGO tarjetas\n",
    "# Pago / SALDO TOTAL : sum(Visa_mpagado , Master_mpagado) / sum(Visa_msaldototal,Master_msaldototal)\n",
    "dataset[, ratio_pagado_saldos := ifelse(suma_saldos_total == 0, 100, suma_pagado / suma_saldos_total)]\n",
    "# Pago / SALDO $ : sum(Visa_mpagado , Master_mpagado) / sum(Visa_msaldopesos,Master_msaldopesos)\n",
    "dataset[, ratio_pagado_saldos_pesos := ifelse(suma_saldos_pesos == 0, 100, suma_pagado / suma_saldos_pesos)]\n",
    "\n",
    "# Pago / CONSUMO :sum(Visa_mpagado , Master_mpagado) / sum(mtarjeta_visa_consumo, mtarjeta_master_consumo)\n",
    "dataset[, ratio_pagado_consumos := ifelse(suma_consumos == 0, 100, suma_pagado / suma_consumos)]\n",
    "# Pago / Ingreso : sum(Visa_mpagado , Master_mpagado) / mpayroll\n",
    "dataset[, ratio_pagado_payroll := ifelse(mpayroll <= 0, 100, suma_pagado / mpayroll)]\n",
    "# sum(Visa_mpagado , Master_mpagado) / mcuentas_saldo\n",
    "dataset[, ratio_pagado_saldo := ifelse(mcuentas_saldo <= 0, 100, suma_pagado / mcuentas_saldo)]\n",
    "\n",
    "# Deuda Total: sum(Visa_msaldototal,Master_msaldototal, mprestamos_personales)\n",
    "dataset[, suma_saldos_prestamos := suma_saldos_total + mprestamos_personales]\n",
    "# sum(Visa_msaldototal,Master_msaldototal, mprestamos_personales) / mpayroll\n",
    "dataset[, suma_saldos_prestamos_divided_by_payroll := ifelse(mpayroll <= 0, 100, suma_saldos_prestamos / mpayroll)]\n",
    "# sum(Visa_msaldototal,Master_msaldototal, mprestamos_personales) / mcuentas_saldo\n",
    "dataset[, suma_saldos_prestamos_divided_by_saldo := ifelse(mcuentas_saldo <= 0, 100, suma_saldos_prestamos / mcuentas_saldo)]\n",
    "\n"
   ]
  },
  {
   "cell_type": "code",
   "execution_count": 8,
   "metadata": {},
   "outputs": [],
   "source": [
    "  #FE2: Operaciones Varias --------------------------------------------------------------------------\n",
    "  ## Tiempo de vida en el banco \n",
    "  dataset[, vida_banco := (cliente_antiguedad/12) / (cliente_edad)]\n",
    "  \n",
    "  ## Total Pasivos\n",
    "  dataset[, total_deuda := rowSums(.SD, na.rm = TRUE), .SDcols = c(\"mprestamos_personales\", \"mprestamos_prendarios\", \"mprestamos_hipotecarios\", \"Visa_msaldototal\", \"Master_msaldototal\")]\n",
    "  \n",
    "  ## Total Activos\n",
    "  dataset[, total_activos := rowSums(.SD, na.rm = TRUE), .SDcols = c(\"mplazo_fijo_dolares\", \"mplazo_fijo_pesos\", \"minversion1_pesos\", \"minversion1_dolares\", \"minversion2\", \"mcuentas_saldo\")]\n",
    "  \n",
    "  ## Tiene cuenta homebanking\n",
    "  dataset[, has_internet := ifelse(dataset$internet > 0, 1, 0) ]\n",
    "  \n",
    "  ## Tiene movimientos/tarjetas\n",
    "  dataset[, has_debito_transacciones := ifelse(dataset$ctarjeta_debito_transacciones > 0, 1, 0) ]\n",
    "  dataset[, has_visa := ifelse(dataset$ctarjeta_visa > 0, 1, 0) ]\n",
    "  dataset[, has_visa_transacciones := ifelse(dataset$ctarjeta_visa_transacciones > 0, 1, 0) ]\n",
    "  dataset[, has_master := ifelse(dataset$ctarjeta_master > 0, 1, 0) ]\n",
    "  dataset[, has_master_transacciones := ifelse(dataset$ctarjeta_master_transacciones > 0, 1, 0) ]\n",
    "  \n",
    "  ## Recibo pago de sueldo?\n",
    "  dataset[, has_payroll := ifelse(dataset$cpayroll_trx + dataset$cpayroll2_trx  > 0, 1, 0) ]\n",
    "    \n",
    "  ## Tiene débitos automáticos?\n",
    "  dataset[, has_da := ifelse(dataset$ccuenta_debitos_automaticos + dataset$ctarjeta_visa_debitos_automaticos + dataset$ctarjeta_master_debitos_automaticos  > 0, 1, 0) ]\n",
    "  \n",
    "  ## ¿hace más transacciones en cajeros de otros bancos?\n",
    "  dataset[, cajeros_ajenos := ifelse(dataset$matm < dataset$matm_other, 1, 0)]"
   ]
  },
  {
   "cell_type": "code",
   "execution_count": 9,
   "metadata": {},
   "outputs": [],
   "source": [
    "#Reglas arbol simple sin 2 variables vinculadas: -ctrx_quarter -active_quarter\n",
    "dataset[  , z1 :=  as.integer(mcaja_ahorro<343&mtarjeta_visa_consumo<1257&mprestamos_personales<12840&ctarjeta_master<0.5) ]\n",
    "dataset[  , z2 :=  as.integer(mcaja_ahorro<343&mtarjeta_visa_consumo<1257&mprestamos_personales<12840&ctarjeta_master>=0.5) ]\n",
    "dataset[  , z3 :=  as.integer(mcaja_ahorro>=343&mtarjeta_visa_consumo<3215&mpasivos_margen<183&cpayroll_trx<0.5) ]\n",
    "dataset[  , z4 :=  as.integer(mcaja_ahorro<343&mtarjeta_visa_consumo>=1257&cprestamos_personales<0.5&mautoservicio<699) ]\n",
    "\n",
    "dataset[  , z5 :=  as.integer(mcaja_ahorro>=343&mpasivos_margen<183&cpayroll_trx>=0.5&mcomisiones_mantenimiento>=1770) ]\n",
    "dataset[  , z6 :=  as.integer(mcaja_ahorro<343&mtarjeta_visa_consumo<1257&mprestamos_personales>=12840&cdescubierto_preacordado<0.5) ]\n",
    "dataset[  , z7 :=  as.integer(mcaja_ahorro>=343&mtarjeta_visa_consumo<1840&mpasivos_margen>=183&cpayroll_trx<0.5) ]\n",
    "dataset[  , z8 :=  as.integer(mcaja_ahorro>=343&mtarjeta_visa_consumo>=3215&mpasivos_margen<183&cpayroll_trx<0.5) ]\n",
    "\n",
    "dataset[  , z9 :=  as.integer (mcaja_ahorro>=343&mpasivos_margen>=183&cpayroll_trx>=0.5) ]\n",
    "dataset[  , z10 :=  as.integer(mcaja_ahorro<343&mtarjeta_visa_consumo<1257&mprestamos_personales>=12840&cdescubierto_preacordado>=0.5) ]\n",
    "dataset[  , z11 :=  as.integer(mcaja_ahorro<343&mtarjeta_visa_consumo>=1257&cprestamos_personales<0.5&mautoservicio>=699) ]\n",
    "dataset[  , z12 :=  as.integer(mcaja_ahorro>=343&mtarjeta_visa_consumo>=1840&mpasivos_margen>=183&cpayroll_trx<0.5) ]\n",
    "\n",
    "\n",
    "dataset[  , z13 :=  as.integer(mcaja_ahorro<343&mtarjeta_visa_consumo>=1257&cprestamos_personales>=0.5&Visa_mconsumospesos>=12699) ]\n",
    "dataset[  , z14 :=  as.integer(mcaja_ahorro>=343&mpasivos_margen<183&cpayroll_trx>=0.5&mcomisiones_mantenimiento<1770) ]\n",
    "dataset[  , z15 :=  as.integer(mcaja_ahorro>=343&mpasivos_margen>=183&cpayroll_trx>=0.5&cliente_antiguedad>=3.5) ]\n",
    "dataset[  , z16 :=  as.integer(mcaja_ahorro<343&mtarjeta_visa_consumo>=1257&cprestamos_personales>=0.5&Visa_mconsumospesos<12699) ]"
   ]
  },
  {
   "cell_type": "code",
   "execution_count": 10,
   "metadata": {},
   "outputs": [
    {
     "data": {
      "text/html": [
       "<table class=\"dataframe\">\n",
       "<caption>A data.table: 2 × 86</caption>\n",
       "<thead>\n",
       "\t<tr><th scope=col>clase_ternaria</th><th scope=col>ctrx_quarter_fix</th><th scope=col>ctrx_quarter_fix_edad</th><th scope=col>ctrx_quarter_fix_edad2</th><th scope=col>mprestamos_personales_edad</th><th scope=col>mprestamos_personales_edad2</th><th scope=col>mactivos_margen_edad</th><th scope=col>mactivos_margen_edad2</th><th scope=col>mcomisiones_edad</th><th scope=col>mcomisiones_edad2</th><th scope=col>⋯</th><th scope=col>has_da</th><th scope=col>cajeros_ajenos</th><th scope=col>z1</th><th scope=col>z2</th><th scope=col>z3</th><th scope=col>z4</th><th scope=col>z5</th><th scope=col>z6</th><th scope=col>z7</th><th scope=col>z8</th></tr>\n",
       "\t<tr><th scope=col>&lt;chr&gt;</th><th scope=col>&lt;int&gt;</th><th scope=col>&lt;dbl&gt;</th><th scope=col>&lt;dbl&gt;</th><th scope=col>&lt;dbl&gt;</th><th scope=col>&lt;dbl&gt;</th><th scope=col>&lt;dbl&gt;</th><th scope=col>&lt;dbl&gt;</th><th scope=col>&lt;dbl&gt;</th><th scope=col>&lt;dbl&gt;</th><th scope=col>⋯</th><th scope=col>&lt;dbl&gt;</th><th scope=col>&lt;dbl&gt;</th><th scope=col>&lt;int&gt;</th><th scope=col>&lt;int&gt;</th><th scope=col>&lt;int&gt;</th><th scope=col>&lt;int&gt;</th><th scope=col>&lt;int&gt;</th><th scope=col>&lt;int&gt;</th><th scope=col>&lt;int&gt;</th><th scope=col>&lt;int&gt;</th></tr>\n",
       "</thead>\n",
       "<tbody>\n",
       "\t<tr><td>Continua</td><td>420</td><td>8.4</td><td>0.168</td><td>0</td><td>0</td><td>155.0212</td><td>3.100424</td><td>47.7964</td><td>0.955928</td><td>⋯</td><td>1</td><td>0</td><td>0</td><td>0</td><td>0</td><td>0</td><td>0</td><td>0</td><td>0</td><td>0</td></tr>\n",
       "\t<tr><td>Continua</td><td>390</td><td>7.8</td><td>0.156</td><td>0</td><td>0</td><td> 95.8244</td><td>1.916488</td><td>46.5312</td><td>0.930624</td><td>⋯</td><td>1</td><td>0</td><td>0</td><td>0</td><td>0</td><td>0</td><td>0</td><td>0</td><td>0</td><td>0</td></tr>\n",
       "</tbody>\n",
       "</table>\n"
      ],
      "text/latex": [
       "A data.table: 2 × 86\n",
       "\\begin{tabular}{lllllllllllllllllllll}\n",
       " clase\\_ternaria & ctrx\\_quarter\\_fix & ctrx\\_quarter\\_fix\\_edad & ctrx\\_quarter\\_fix\\_edad2 & mprestamos\\_personales\\_edad & mprestamos\\_personales\\_edad2 & mactivos\\_margen\\_edad & mactivos\\_margen\\_edad2 & mcomisiones\\_edad & mcomisiones\\_edad2 & ⋯ & has\\_da & cajeros\\_ajenos & z1 & z2 & z3 & z4 & z5 & z6 & z7 & z8\\\\\n",
       " <chr> & <int> & <dbl> & <dbl> & <dbl> & <dbl> & <dbl> & <dbl> & <dbl> & <dbl> & ⋯ & <dbl> & <dbl> & <int> & <int> & <int> & <int> & <int> & <int> & <int> & <int>\\\\\n",
       "\\hline\n",
       "\t Continua & 420 & 8.4 & 0.168 & 0 & 0 & 155.0212 & 3.100424 & 47.7964 & 0.955928 & ⋯ & 1 & 0 & 0 & 0 & 0 & 0 & 0 & 0 & 0 & 0\\\\\n",
       "\t Continua & 390 & 7.8 & 0.156 & 0 & 0 &  95.8244 & 1.916488 & 46.5312 & 0.930624 & ⋯ & 1 & 0 & 0 & 0 & 0 & 0 & 0 & 0 & 0 & 0\\\\\n",
       "\\end{tabular}\n"
      ],
      "text/markdown": [
       "\n",
       "A data.table: 2 × 86\n",
       "\n",
       "| clase_ternaria &lt;chr&gt; | ctrx_quarter_fix &lt;int&gt; | ctrx_quarter_fix_edad &lt;dbl&gt; | ctrx_quarter_fix_edad2 &lt;dbl&gt; | mprestamos_personales_edad &lt;dbl&gt; | mprestamos_personales_edad2 &lt;dbl&gt; | mactivos_margen_edad &lt;dbl&gt; | mactivos_margen_edad2 &lt;dbl&gt; | mcomisiones_edad &lt;dbl&gt; | mcomisiones_edad2 &lt;dbl&gt; | ⋯ ⋯ | has_da &lt;dbl&gt; | cajeros_ajenos &lt;dbl&gt; | z1 &lt;int&gt; | z2 &lt;int&gt; | z3 &lt;int&gt; | z4 &lt;int&gt; | z5 &lt;int&gt; | z6 &lt;int&gt; | z7 &lt;int&gt; | z8 &lt;int&gt; |\n",
       "|---|---|---|---|---|---|---|---|---|---|---|---|---|---|---|---|---|---|---|---|---|\n",
       "| Continua | 420 | 8.4 | 0.168 | 0 | 0 | 155.0212 | 3.100424 | 47.7964 | 0.955928 | ⋯ | 1 | 0 | 0 | 0 | 0 | 0 | 0 | 0 | 0 | 0 |\n",
       "| Continua | 390 | 7.8 | 0.156 | 0 | 0 |  95.8244 | 1.916488 | 46.5312 | 0.930624 | ⋯ | 1 | 0 | 0 | 0 | 0 | 0 | 0 | 0 | 0 | 0 |\n",
       "\n"
      ],
      "text/plain": [
       "  clase_ternaria ctrx_quarter_fix ctrx_quarter_fix_edad ctrx_quarter_fix_edad2\n",
       "1 Continua       420              8.4                   0.168                 \n",
       "2 Continua       390              7.8                   0.156                 \n",
       "  mprestamos_personales_edad mprestamos_personales_edad2 mactivos_margen_edad\n",
       "1 0                          0                           155.0212            \n",
       "2 0                          0                            95.8244            \n",
       "  mactivos_margen_edad2 mcomisiones_edad mcomisiones_edad2 ⋯ has_da\n",
       "1 3.100424              47.7964          0.955928          ⋯ 1     \n",
       "2 1.916488              46.5312          0.930624          ⋯ 1     \n",
       "  cajeros_ajenos z1 z2 z3 z4 z5 z6 z7 z8\n",
       "1 0              0  0  0  0  0  0  0  0 \n",
       "2 0              0  0  0  0  0  0  0  0 "
      ]
     },
     "metadata": {},
     "output_type": "display_data"
    }
   ],
   "source": [
    "head(dataset[,155:240],n=2)"
   ]
  },
  {
   "cell_type": "markdown",
   "metadata": {},
   "source": [
    "### 03) Data Drifting"
   ]
  },
  {
   "cell_type": "code",
   "execution_count": null,
   "metadata": {},
   "outputs": [],
   "source": [
    "#Como seleccionar los campos monetarios\n",
    "#campos_monetarios  <- colnames(dataset)\n",
    "#campos_monetarios  <- campos_monetarios[campos_monetarios %like% \"^(m|Visa_m|Master_m|vm_m)\"]"
   ]
  },
  {
   "cell_type": "code",
   "execution_count": null,
   "metadata": {},
   "outputs": [],
   "source": [
    "#Seleccion Manual de campos a corregir: \n",
    "\n",
    "cols_to_fix <- c(\"mcuentas_saldo\", \n",
    "                  \"mcuenta_corriente\",\n",
    "                  \"mcomisiones\", \n",
    "                  \"Visa_mpagominimo\",\n",
    "                  \"mcomisiones_otras\",\n",
    "                  \"mcaja_ahorro_dolares\",\n",
    "                  \"mtransferencias_recibidas\")"
   ]
  },
  {
   "cell_type": "code",
   "execution_count": null,
   "metadata": {},
   "outputs": [],
   "source": [
    "#FUNCION: FIX Drifting con \"rank_cero_fijo\"\n",
    "    #los positivos se rankean por su lado\n",
    "    #los negativos se rankean por su lado\n",
    "\n",
    "drift_rank_cero_fijo  <- function( campos_drift )\n",
    "{\n",
    "  for( campo in campos_drift )\n",
    "  {\n",
    "    cat( campo, \" \" )\n",
    "    dataset[ get(campo) ==0, paste0(campo,\"_rank\") := 0 ]\n",
    "    dataset[ get(campo) > 0, paste0(campo,\"_rank\") :=   frank(  get(campo), ties.method=\"random\")  / .N, by= foto_mes ]\n",
    "    dataset[ get(campo) < 0, paste0(campo,\"_rank\") :=  -frank( -get(campo), ties.method=\"random\")  / .N, by= foto_mes ]\n",
    "    dataset[ , (campo) := NULL ]\n",
    "  }\n",
    "}"
   ]
  },
  {
   "cell_type": "code",
   "execution_count": null,
   "metadata": {},
   "outputs": [],
   "source": [
    "#aplicar la funcion para corregir Data Drifting: NO LA APLIQUE\n",
    "#La prueba con solo DataDrifting al dataset original empeoro el resultado del score publico -> por eso NO LA APLICO en este caso\n",
    "#pero cuando vi luego el score privado, habia Mejorado -> probar incluila en el caso completo y ver si mejora \n",
    "\n",
    "#drift_rank_cero_fijo( cols_to_fix )"
   ]
  },
  {
   "cell_type": "markdown",
   "metadata": {
    "tags": []
   },
   "source": [
    "### 02) Modelado Rpart"
   ]
  },
  {
   "cell_type": "code",
   "execution_count": 11,
   "metadata": {},
   "outputs": [],
   "source": [
    "#creo la clase_binaria SI={ BAJA+1, BAJA+2 }    NO={ CONTINUA }\n",
    "dataset[ foto_mes==202103, \n",
    "         clase_binaria :=  ifelse( clase_ternaria==\"Continua\", \"0L\", \"1L\" ) ]"
   ]
  },
  {
   "cell_type": "code",
   "execution_count": 12,
   "metadata": {},
   "outputs": [
    {
     "name": "stdout",
     "output_type": "stream",
     "text": [
      "[1] \"train: 163324 | test: 164102\"\n"
     ]
    }
   ],
   "source": [
    "# SEPARO EN TRAIN(dtrain) Y TEST(dapply):\n",
    "dtrain <- dataset[foto_mes == 202103] # defino donde voy a entrenar\n",
    "dapply <- dataset[foto_mes == 202105] # defino donde voy a aplicar el model\n",
    "\n",
    "print(paste(\"train:\", dim(dtrain)[1], \"| test:\", dim(dapply)[1]))"
   ]
  },
  {
   "cell_type": "markdown",
   "metadata": {
    "tags": []
   },
   "source": [
    "**HIPERPARAMETROS** DEL MODELO"
   ]
  },
  {
   "cell_type": "code",
   "execution_count": 13,
   "metadata": {},
   "outputs": [],
   "source": [
    "# genero el modelo,  aqui se construye el arbol\n",
    "# quiero predecir clase_ternaria a partir de el resto de las variables\n",
    "modelo  <- rpart(formula=   \"clase_binaria ~ . -clase_ternaria\",\n",
    "                 data=      dtrain,  #los datos donde voy a entrenar\n",
    "                 xval=         0,\n",
    "                 cp=          -1,   # esto significa no limitar la complejidad de los splits\n",
    "                 minsplit=  1119,    # minima cantidad de registros para que se haga el split  \n",
    "                 minbucket=  245,   # tamaño minimo de una hoja  \n",
    "                 maxdepth=     14 ) # profundidad maxima del arbol"
   ]
  },
  {
   "cell_type": "markdown",
   "metadata": {
    "tags": []
   },
   "source": [
    "### 03) Prediccion"
   ]
  },
  {
   "cell_type": "code",
   "execution_count": 14,
   "metadata": {},
   "outputs": [],
   "source": [
    "# aplico el modelo a los datos nuevos\n",
    "prediccion <- predict(\n",
    "        object = modelo,\n",
    "        newdata = dapply,\n",
    "        type = \"prob\"\n",
    ")"
   ]
  },
  {
   "cell_type": "code",
   "execution_count": 15,
   "metadata": {},
   "outputs": [
    {
     "data": {
      "text/html": [
       "<table class=\"dataframe\">\n",
       "<caption>A matrix: 2 × 2 of type dbl</caption>\n",
       "<thead>\n",
       "\t<tr><th></th><th scope=col>0L</th><th scope=col>1L</th></tr>\n",
       "</thead>\n",
       "<tbody>\n",
       "\t<tr><th scope=row>1</th><td>0.9998768</td><td>0.0001232267</td></tr>\n",
       "\t<tr><th scope=row>2</th><td>1.0000000</td><td>0.0000000000</td></tr>\n",
       "</tbody>\n",
       "</table>\n"
      ],
      "text/latex": [
       "A matrix: 2 × 2 of type dbl\n",
       "\\begin{tabular}{r|ll}\n",
       "  & 0L & 1L\\\\\n",
       "\\hline\n",
       "\t1 & 0.9998768 & 0.0001232267\\\\\n",
       "\t2 & 1.0000000 & 0.0000000000\\\\\n",
       "\\end{tabular}\n"
      ],
      "text/markdown": [
       "\n",
       "A matrix: 2 × 2 of type dbl\n",
       "\n",
       "| <!--/--> | 0L | 1L |\n",
       "|---|---|---|\n",
       "| 1 | 0.9998768 | 0.0001232267 |\n",
       "| 2 | 1.0000000 | 0.0000000000 |\n",
       "\n"
      ],
      "text/plain": [
       "  0L        1L          \n",
       "1 0.9998768 0.0001232267\n",
       "2 1.0000000 0.0000000000"
      ]
     },
     "metadata": {},
     "output_type": "display_data"
    }
   ],
   "source": [
    "# prediccion es una matriz con DOS columnas,\n",
    "# cada columna es el vector de probabilidades\n",
    "head(prediccion, n=2)"
   ]
  },
  {
   "cell_type": "code",
   "execution_count": 16,
   "metadata": {},
   "outputs": [
    {
     "data": {
      "text/html": [
       "<table class=\"dataframe\">\n",
       "<caption>A data.frame: 3 × 2</caption>\n",
       "<thead>\n",
       "\t<tr><th></th><th scope=col>0L</th><th scope=col>1L</th></tr>\n",
       "\t<tr><th></th><th scope=col>&lt;dbl&gt;</th><th scope=col>&lt;dbl&gt;</th></tr>\n",
       "</thead>\n",
       "<tbody>\n",
       "\t<tr><th scope=row>161</th><td>0.6505051</td><td>0.3494949</td></tr>\n",
       "\t<tr><th scope=row>268</th><td>0.6505051</td><td>0.3494949</td></tr>\n",
       "\t<tr><th scope=row>395</th><td>0.6505051</td><td>0.3494949</td></tr>\n",
       "</tbody>\n",
       "</table>\n"
      ],
      "text/latex": [
       "A data.frame: 3 × 2\n",
       "\\begin{tabular}{r|ll}\n",
       "  & 0L & 1L\\\\\n",
       "  & <dbl> & <dbl>\\\\\n",
       "\\hline\n",
       "\t161 & 0.6505051 & 0.3494949\\\\\n",
       "\t268 & 0.6505051 & 0.3494949\\\\\n",
       "\t395 & 0.6505051 & 0.3494949\\\\\n",
       "\\end{tabular}\n"
      ],
      "text/markdown": [
       "\n",
       "A data.frame: 3 × 2\n",
       "\n",
       "| <!--/--> | 0L &lt;dbl&gt; | 1L &lt;dbl&gt; |\n",
       "|---|---|---|\n",
       "| 161 | 0.6505051 | 0.3494949 |\n",
       "| 268 | 0.6505051 | 0.3494949 |\n",
       "| 395 | 0.6505051 | 0.3494949 |\n",
       "\n"
      ],
      "text/plain": [
       "    0L        1L       \n",
       "161 0.6505051 0.3494949\n",
       "268 0.6505051 0.3494949\n",
       "395 0.6505051 0.3494949"
      ]
     },
     "metadata": {},
     "output_type": "display_data"
    }
   ],
   "source": [
    "# la ordeno de mayor a menor prob de baja+2\n",
    "prediccion_df <- as.data.frame(prediccion)\n",
    "\n",
    "head(prediccion_df[order(-prediccion_df$`1L`), ], n=3)"
   ]
  },
  {
   "cell_type": "code",
   "execution_count": 17,
   "metadata": {},
   "outputs": [
    {
     "data": {
      "text/html": [
       "<table class=\"dataframe\">\n",
       "<caption>A data.table: 3 × 2</caption>\n",
       "<thead>\n",
       "\t<tr><th scope=col>numero_de_cliente</th><th scope=col>prob_SI</th></tr>\n",
       "\t<tr><th scope=col>&lt;int&gt;</th><th scope=col>&lt;dbl&gt;</th></tr>\n",
       "</thead>\n",
       "<tbody>\n",
       "\t<tr><td>29183981</td><td>0.0001232267</td></tr>\n",
       "\t<tr><td>29184630</td><td>0.0000000000</td></tr>\n",
       "\t<tr><td>29185433</td><td>0.0000000000</td></tr>\n",
       "</tbody>\n",
       "</table>\n"
      ],
      "text/latex": [
       "A data.table: 3 × 2\n",
       "\\begin{tabular}{ll}\n",
       " numero\\_de\\_cliente & prob\\_SI\\\\\n",
       " <int> & <dbl>\\\\\n",
       "\\hline\n",
       "\t 29183981 & 0.0001232267\\\\\n",
       "\t 29184630 & 0.0000000000\\\\\n",
       "\t 29185433 & 0.0000000000\\\\\n",
       "\\end{tabular}\n"
      ],
      "text/markdown": [
       "\n",
       "A data.table: 3 × 2\n",
       "\n",
       "| numero_de_cliente &lt;int&gt; | prob_SI &lt;dbl&gt; |\n",
       "|---|---|\n",
       "| 29183981 | 0.0001232267 |\n",
       "| 29184630 | 0.0000000000 |\n",
       "| 29185433 | 0.0000000000 |\n",
       "\n"
      ],
      "text/plain": [
       "  numero_de_cliente prob_SI     \n",
       "1 29183981          0.0001232267\n",
       "2 29184630          0.0000000000\n",
       "3 29185433          0.0000000000"
      ]
     },
     "metadata": {},
     "output_type": "display_data"
    }
   ],
   "source": [
    "# creo un df dfinal, que solo tiene el numero de cliente y la probabilidad para BAJA+2 = 1L\n",
    "dfinal  <- copy( dapply[ , list(numero_de_cliente) ] )\n",
    "dfinal[ , prob_SI := prediccion[ , \"1L\"] ]\n",
    "\n",
    "head(dfinal ,n=3)"
   ]
  },
  {
   "cell_type": "markdown",
   "metadata": {},
   "source": [
    "### 04) Cortes para Envios"
   ]
  },
  {
   "cell_type": "code",
   "execution_count": 18,
   "metadata": {},
   "outputs": [
    {
     "data": {
      "text/html": [
       "<table class=\"dataframe\">\n",
       "<caption>A data.table: 7 × 3</caption>\n",
       "<thead>\n",
       "\t<tr><th scope=col>numero_de_cliente</th><th scope=col>prob_SI</th><th scope=col>azar</th></tr>\n",
       "\t<tr><th scope=col>&lt;int&gt;</th><th scope=col>&lt;dbl&gt;</th><th scope=col>&lt;dbl&gt;</th></tr>\n",
       "</thead>\n",
       "<tbody>\n",
       "\t<tr><td>124028204</td><td>0.3494949</td><td>0.0004523343</td></tr>\n",
       "\t<tr><td>104907405</td><td>0.3494949</td><td>0.0016011221</td></tr>\n",
       "\t<tr><td> 39484959</td><td>0.3494949</td><td>0.0021200685</td></tr>\n",
       "\t<tr><td> 68497913</td><td>0.3494949</td><td>0.0045184768</td></tr>\n",
       "\t<tr><td>104555124</td><td>0.3494949</td><td>0.0070446474</td></tr>\n",
       "\t<tr><td> 81273109</td><td>0.3494949</td><td>0.0076577596</td></tr>\n",
       "\t<tr><td>102927621</td><td>0.3494949</td><td>0.0103584635</td></tr>\n",
       "</tbody>\n",
       "</table>\n"
      ],
      "text/latex": [
       "A data.table: 7 × 3\n",
       "\\begin{tabular}{lll}\n",
       " numero\\_de\\_cliente & prob\\_SI & azar\\\\\n",
       " <int> & <dbl> & <dbl>\\\\\n",
       "\\hline\n",
       "\t 124028204 & 0.3494949 & 0.0004523343\\\\\n",
       "\t 104907405 & 0.3494949 & 0.0016011221\\\\\n",
       "\t  39484959 & 0.3494949 & 0.0021200685\\\\\n",
       "\t  68497913 & 0.3494949 & 0.0045184768\\\\\n",
       "\t 104555124 & 0.3494949 & 0.0070446474\\\\\n",
       "\t  81273109 & 0.3494949 & 0.0076577596\\\\\n",
       "\t 102927621 & 0.3494949 & 0.0103584635\\\\\n",
       "\\end{tabular}\n"
      ],
      "text/markdown": [
       "\n",
       "A data.table: 7 × 3\n",
       "\n",
       "| numero_de_cliente &lt;int&gt; | prob_SI &lt;dbl&gt; | azar &lt;dbl&gt; |\n",
       "|---|---|---|\n",
       "| 124028204 | 0.3494949 | 0.0004523343 |\n",
       "| 104907405 | 0.3494949 | 0.0016011221 |\n",
       "|  39484959 | 0.3494949 | 0.0021200685 |\n",
       "|  68497913 | 0.3494949 | 0.0045184768 |\n",
       "| 104555124 | 0.3494949 | 0.0070446474 |\n",
       "|  81273109 | 0.3494949 | 0.0076577596 |\n",
       "| 102927621 | 0.3494949 | 0.0103584635 |\n",
       "\n"
      ],
      "text/plain": [
       "  numero_de_cliente prob_SI   azar        \n",
       "1 124028204         0.3494949 0.0004523343\n",
       "2 104907405         0.3494949 0.0016011221\n",
       "3  39484959         0.3494949 0.0021200685\n",
       "4  68497913         0.3494949 0.0045184768\n",
       "5 104555124         0.3494949 0.0070446474\n",
       "6  81273109         0.3494949 0.0076577596\n",
       "7 102927621         0.3494949 0.0103584635"
      ]
     },
     "metadata": {},
     "output_type": "display_data"
    }
   ],
   "source": [
    "# solo le envio estimulo a los registros con probabilidad de BAJA+2 mayor  a  1/40\n",
    "set.seed(130631)  \n",
    "dfinal[ , azar := runif( nrow(dapply) ) ]\n",
    "\n",
    "# ordeno en forma descentente, y cuando coincide la probabilidad, al azar\n",
    "setorder( dfinal, -prob_SI, azar )\n",
    "\n",
    "\n",
    "head(dfinal ,n=7)"
   ]
  },
  {
   "cell_type": "markdown",
   "metadata": {},
   "source": [
    "### 05) Exporto el archivo con las predicciones"
   ]
  },
  {
   "cell_type": "code",
   "execution_count": 19,
   "metadata": {},
   "outputs": [
    {
     "name": "stderr",
     "output_type": "stream",
     "text": [
      "Warning message in dir.create(\"./exp/\"):\n",
      "\"'.\\exp' already exists\"\n",
      "Warning message in dir.create(\"./exp/KA4120\"):\n",
      "\"'.\\exp\\KA4120' already exists\"\n"
     ]
    }
   ],
   "source": [
    "# primero creo la carpeta donde va el experimento\n",
    "dir.create(\"./exp/\")\n",
    "dir.create(\"./exp/KA4120\")"
   ]
  },
  {
   "cell_type": "code",
   "execution_count": 20,
   "metadata": {},
   "outputs": [],
   "source": [
    "# genero el archivo para Kaggle: EL MEJOR RESULTADO SE OBTUVO CON UN CORTE DE 7500 ENVIOS\n",
    "for( corte  in  c( 6000, 6500, 7000, 7500, 8000, 8500, 9000, 9500, 10000, 10500, 11000 ) )\n",
    "{\n",
    "  #le envio a los  corte  mejores,  de mayor probabilidad de prob_SI\n",
    "  dfinal[ , Predicted := 0L ]\n",
    "  dfinal[ 1:corte , Predicted := 1L ]\n",
    "\n",
    "\n",
    "  fwrite( dfinal[ , list(numero_de_cliente, Predicted) ], #solo los campos para Kaggle\n",
    "           file= paste0( \"./exp/KA4120/08_BOFinal_KA4120_005_\",  corte, \".csv\"),\n",
    "           sep=  \",\" )\n",
    "}"
   ]
  },
  {
   "cell_type": "markdown",
   "metadata": {},
   "source": [
    "### 06) Calcular el feature importance\n"
   ]
  },
  {
   "cell_type": "code",
   "execution_count": 21,
   "metadata": {},
   "outputs": [
    {
     "data": {
      "text/html": [
       "<table class=\"dataframe\">\n",
       "<caption>A data.frame: 40 × 2</caption>\n",
       "<thead>\n",
       "\t<tr><th></th><th scope=col>Variable</th><th scope=col>Importancia</th></tr>\n",
       "\t<tr><th></th><th scope=col>&lt;chr&gt;</th><th scope=col>&lt;dbl&gt;</th></tr>\n",
       "</thead>\n",
       "<tbody>\n",
       "\t<tr><th scope=row>z1</th><td>z1                                         </td><td>165.965663</td></tr>\n",
       "\t<tr><th scope=row>z2</th><td>z2                                         </td><td> 70.736319</td></tr>\n",
       "\t<tr><th scope=row>prestamos_minus_saldo</th><td>prestamos_minus_saldo                      </td><td> 41.368578</td></tr>\n",
       "\t<tr><th scope=row>rentabilidad_annual_divided_by_comisiones</th><td>rentabilidad_annual_divided_by_comisiones  </td><td> 36.461397</td></tr>\n",
       "\t<tr><th scope=row>mcuentas_saldo</th><td>mcuentas_saldo                             </td><td> 33.999829</td></tr>\n",
       "\t<tr><th scope=row>total_activos</th><td>total_activos                              </td><td> 33.776206</td></tr>\n",
       "\t<tr><th scope=row>z3</th><td>z3                                         </td><td> 30.701569</td></tr>\n",
       "\t<tr><th scope=row>saldo_minus_caja</th><td>saldo_minus_caja                           </td><td> 25.906626</td></tr>\n",
       "\t<tr><th scope=row>saldo_minus_payroll</th><td>saldo_minus_payroll                        </td><td> 25.348009</td></tr>\n",
       "\t<tr><th scope=row>mcuenta_corriente</th><td>mcuenta_corriente                          </td><td> 23.528817</td></tr>\n",
       "\t<tr><th scope=row>total_deuda</th><td>total_deuda                                </td><td> 19.005699</td></tr>\n",
       "\t<tr><th scope=row>prestamos_minus_nonnegative_saldo</th><td>prestamos_minus_nonnegative_saldo          </td><td> 17.469417</td></tr>\n",
       "\t<tr><th scope=row>active_quarter</th><td>active_quarter                             </td><td> 16.804103</td></tr>\n",
       "\t<tr><th scope=row>ctrx_quarter</th><td>ctrx_quarter                               </td><td> 14.924909</td></tr>\n",
       "\t<tr><th scope=row>z4</th><td>z4                                         </td><td> 14.505813</td></tr>\n",
       "\t<tr><th scope=row>rentabilidad_divided_by_comisiones</th><td>rentabilidad_divided_by_comisiones         </td><td> 14.021665</td></tr>\n",
       "\t<tr><th scope=row>rentabilidad_annual_divided_by_rentabilidad</th><td>rentabilidad_annual_divided_by_rentabilidad</td><td> 13.701865</td></tr>\n",
       "\t<tr><th scope=row>comisiones_divided_by_ctrx</th><td>comisiones_divided_by_ctrx                 </td><td> 13.531726</td></tr>\n",
       "\t<tr><th scope=row>ctrx_quarter_fix_edad</th><td>ctrx_quarter_fix_edad                      </td><td> 13.153916</td></tr>\n",
       "\t<tr><th scope=row>ctrx_quarter_fix_edad2</th><td>ctrx_quarter_fix_edad2                     </td><td> 12.845446</td></tr>\n",
       "\t<tr><th scope=row>ctrx_quarter_fix</th><td>ctrx_quarter_fix                           </td><td> 11.482055</td></tr>\n",
       "\t<tr><th scope=row>mprestamos_personales</th><td>mprestamos_personales                      </td><td>  8.961689</td></tr>\n",
       "\t<tr><th scope=row>mprestamos_personales_edad</th><td>mprestamos_personales_edad                 </td><td>  8.704707</td></tr>\n",
       "\t<tr><th scope=row>mprestamos_personales_edad2</th><td>mprestamos_personales_edad2                </td><td>  8.524227</td></tr>\n",
       "\t<tr><th scope=row>caja_minus_corriente</th><td>caja_minus_corriente                       </td><td>  8.100920</td></tr>\n",
       "\t<tr><th scope=row>saldo_minus_corriente</th><td>saldo_minus_corriente                      </td><td>  7.522574</td></tr>\n",
       "\t<tr><th scope=row>suma_consumos_divided_by_tarjetas</th><td>suma_consumos_divided_by_tarjetas          </td><td>  6.906011</td></tr>\n",
       "\t<tr><th scope=row>rentabilidad_minus_comisiones</th><td>rentabilidad_minus_comisiones              </td><td>  6.670635</td></tr>\n",
       "\t<tr><th scope=row>suma_consumos</th><td>suma_consumos                              </td><td>  5.921945</td></tr>\n",
       "\t<tr><th scope=row>mcomisiones_mantenimiento</th><td>mcomisiones_mantenimiento                  </td><td>  5.220048</td></tr>\n",
       "\t<tr><th scope=row>mrentabilidad_annual</th><td>mrentabilidad_annual                       </td><td>  4.825255</td></tr>\n",
       "\t<tr><th scope=row>ctrx_quarter_fix_square</th><td>ctrx_quarter_fix_square                    </td><td>  4.778153</td></tr>\n",
       "\t<tr><th scope=row>mrentabilidad</th><td>mrentabilidad                              </td><td>  4.740876</td></tr>\n",
       "\t<tr><th scope=row>Visa_msaldopesos</th><td>Visa_msaldopesos                           </td><td>  4.723476</td></tr>\n",
       "\t<tr><th scope=row>ctarjetas</th><td>ctarjetas                                  </td><td>  4.636851</td></tr>\n",
       "\t<tr><th scope=row>Visa_msaldototal</th><td>Visa_msaldototal                           </td><td>  4.400688</td></tr>\n",
       "\t<tr><th scope=row>ctarjeta_master</th><td>ctarjeta_master                            </td><td>  4.179882</td></tr>\n",
       "\t<tr><th scope=row>has_master</th><td>has_master                                 </td><td>  4.179882</td></tr>\n",
       "\t<tr><th scope=row>suma_saldos_prestamos</th><td>suma_saldos_prestamos                      </td><td>  3.711884</td></tr>\n",
       "\t<tr><th scope=row>comisiones_divided_by_square</th><td>comisiones_divided_by_square               </td><td>  3.564656</td></tr>\n",
       "</tbody>\n",
       "</table>\n"
      ],
      "text/latex": [
       "A data.frame: 40 × 2\n",
       "\\begin{tabular}{r|ll}\n",
       "  & Variable & Importancia\\\\\n",
       "  & <chr> & <dbl>\\\\\n",
       "\\hline\n",
       "\tz1 & z1                                          & 165.965663\\\\\n",
       "\tz2 & z2                                          &  70.736319\\\\\n",
       "\tprestamos\\_minus\\_saldo & prestamos\\_minus\\_saldo                       &  41.368578\\\\\n",
       "\trentabilidad\\_annual\\_divided\\_by\\_comisiones & rentabilidad\\_annual\\_divided\\_by\\_comisiones   &  36.461397\\\\\n",
       "\tmcuentas\\_saldo & mcuentas\\_saldo                              &  33.999829\\\\\n",
       "\ttotal\\_activos & total\\_activos                               &  33.776206\\\\\n",
       "\tz3 & z3                                          &  30.701569\\\\\n",
       "\tsaldo\\_minus\\_caja & saldo\\_minus\\_caja                            &  25.906626\\\\\n",
       "\tsaldo\\_minus\\_payroll & saldo\\_minus\\_payroll                         &  25.348009\\\\\n",
       "\tmcuenta\\_corriente & mcuenta\\_corriente                           &  23.528817\\\\\n",
       "\ttotal\\_deuda & total\\_deuda                                 &  19.005699\\\\\n",
       "\tprestamos\\_minus\\_nonnegative\\_saldo & prestamos\\_minus\\_nonnegative\\_saldo           &  17.469417\\\\\n",
       "\tactive\\_quarter & active\\_quarter                              &  16.804103\\\\\n",
       "\tctrx\\_quarter & ctrx\\_quarter                                &  14.924909\\\\\n",
       "\tz4 & z4                                          &  14.505813\\\\\n",
       "\trentabilidad\\_divided\\_by\\_comisiones & rentabilidad\\_divided\\_by\\_comisiones          &  14.021665\\\\\n",
       "\trentabilidad\\_annual\\_divided\\_by\\_rentabilidad & rentabilidad\\_annual\\_divided\\_by\\_rentabilidad &  13.701865\\\\\n",
       "\tcomisiones\\_divided\\_by\\_ctrx & comisiones\\_divided\\_by\\_ctrx                  &  13.531726\\\\\n",
       "\tctrx\\_quarter\\_fix\\_edad & ctrx\\_quarter\\_fix\\_edad                       &  13.153916\\\\\n",
       "\tctrx\\_quarter\\_fix\\_edad2 & ctrx\\_quarter\\_fix\\_edad2                      &  12.845446\\\\\n",
       "\tctrx\\_quarter\\_fix & ctrx\\_quarter\\_fix                            &  11.482055\\\\\n",
       "\tmprestamos\\_personales & mprestamos\\_personales                       &   8.961689\\\\\n",
       "\tmprestamos\\_personales\\_edad & mprestamos\\_personales\\_edad                  &   8.704707\\\\\n",
       "\tmprestamos\\_personales\\_edad2 & mprestamos\\_personales\\_edad2                 &   8.524227\\\\\n",
       "\tcaja\\_minus\\_corriente & caja\\_minus\\_corriente                        &   8.100920\\\\\n",
       "\tsaldo\\_minus\\_corriente & saldo\\_minus\\_corriente                       &   7.522574\\\\\n",
       "\tsuma\\_consumos\\_divided\\_by\\_tarjetas & suma\\_consumos\\_divided\\_by\\_tarjetas           &   6.906011\\\\\n",
       "\trentabilidad\\_minus\\_comisiones & rentabilidad\\_minus\\_comisiones               &   6.670635\\\\\n",
       "\tsuma\\_consumos & suma\\_consumos                               &   5.921945\\\\\n",
       "\tmcomisiones\\_mantenimiento & mcomisiones\\_mantenimiento                   &   5.220048\\\\\n",
       "\tmrentabilidad\\_annual & mrentabilidad\\_annual                        &   4.825255\\\\\n",
       "\tctrx\\_quarter\\_fix\\_square & ctrx\\_quarter\\_fix\\_square                     &   4.778153\\\\\n",
       "\tmrentabilidad & mrentabilidad                               &   4.740876\\\\\n",
       "\tVisa\\_msaldopesos & Visa\\_msaldopesos                            &   4.723476\\\\\n",
       "\tctarjetas & ctarjetas                                   &   4.636851\\\\\n",
       "\tVisa\\_msaldototal & Visa\\_msaldototal                            &   4.400688\\\\\n",
       "\tctarjeta\\_master & ctarjeta\\_master                             &   4.179882\\\\\n",
       "\thas\\_master & has\\_master                                  &   4.179882\\\\\n",
       "\tsuma\\_saldos\\_prestamos & suma\\_saldos\\_prestamos                       &   3.711884\\\\\n",
       "\tcomisiones\\_divided\\_by\\_square & comisiones\\_divided\\_by\\_square                &   3.564656\\\\\n",
       "\\end{tabular}\n"
      ],
      "text/markdown": [
       "\n",
       "A data.frame: 40 × 2\n",
       "\n",
       "| <!--/--> | Variable &lt;chr&gt; | Importancia &lt;dbl&gt; |\n",
       "|---|---|---|\n",
       "| z1 | z1                                          | 165.965663 |\n",
       "| z2 | z2                                          |  70.736319 |\n",
       "| prestamos_minus_saldo | prestamos_minus_saldo                       |  41.368578 |\n",
       "| rentabilidad_annual_divided_by_comisiones | rentabilidad_annual_divided_by_comisiones   |  36.461397 |\n",
       "| mcuentas_saldo | mcuentas_saldo                              |  33.999829 |\n",
       "| total_activos | total_activos                               |  33.776206 |\n",
       "| z3 | z3                                          |  30.701569 |\n",
       "| saldo_minus_caja | saldo_minus_caja                            |  25.906626 |\n",
       "| saldo_minus_payroll | saldo_minus_payroll                         |  25.348009 |\n",
       "| mcuenta_corriente | mcuenta_corriente                           |  23.528817 |\n",
       "| total_deuda | total_deuda                                 |  19.005699 |\n",
       "| prestamos_minus_nonnegative_saldo | prestamos_minus_nonnegative_saldo           |  17.469417 |\n",
       "| active_quarter | active_quarter                              |  16.804103 |\n",
       "| ctrx_quarter | ctrx_quarter                                |  14.924909 |\n",
       "| z4 | z4                                          |  14.505813 |\n",
       "| rentabilidad_divided_by_comisiones | rentabilidad_divided_by_comisiones          |  14.021665 |\n",
       "| rentabilidad_annual_divided_by_rentabilidad | rentabilidad_annual_divided_by_rentabilidad |  13.701865 |\n",
       "| comisiones_divided_by_ctrx | comisiones_divided_by_ctrx                  |  13.531726 |\n",
       "| ctrx_quarter_fix_edad | ctrx_quarter_fix_edad                       |  13.153916 |\n",
       "| ctrx_quarter_fix_edad2 | ctrx_quarter_fix_edad2                      |  12.845446 |\n",
       "| ctrx_quarter_fix | ctrx_quarter_fix                            |  11.482055 |\n",
       "| mprestamos_personales | mprestamos_personales                       |   8.961689 |\n",
       "| mprestamos_personales_edad | mprestamos_personales_edad                  |   8.704707 |\n",
       "| mprestamos_personales_edad2 | mprestamos_personales_edad2                 |   8.524227 |\n",
       "| caja_minus_corriente | caja_minus_corriente                        |   8.100920 |\n",
       "| saldo_minus_corriente | saldo_minus_corriente                       |   7.522574 |\n",
       "| suma_consumos_divided_by_tarjetas | suma_consumos_divided_by_tarjetas           |   6.906011 |\n",
       "| rentabilidad_minus_comisiones | rentabilidad_minus_comisiones               |   6.670635 |\n",
       "| suma_consumos | suma_consumos                               |   5.921945 |\n",
       "| mcomisiones_mantenimiento | mcomisiones_mantenimiento                   |   5.220048 |\n",
       "| mrentabilidad_annual | mrentabilidad_annual                        |   4.825255 |\n",
       "| ctrx_quarter_fix_square | ctrx_quarter_fix_square                     |   4.778153 |\n",
       "| mrentabilidad | mrentabilidad                               |   4.740876 |\n",
       "| Visa_msaldopesos | Visa_msaldopesos                            |   4.723476 |\n",
       "| ctarjetas | ctarjetas                                   |   4.636851 |\n",
       "| Visa_msaldototal | Visa_msaldototal                            |   4.400688 |\n",
       "| ctarjeta_master | ctarjeta_master                             |   4.179882 |\n",
       "| has_master | has_master                                  |   4.179882 |\n",
       "| suma_saldos_prestamos | suma_saldos_prestamos                       |   3.711884 |\n",
       "| comisiones_divided_by_square | comisiones_divided_by_square                |   3.564656 |\n",
       "\n"
      ],
      "text/plain": [
       "                                            Variable                                   \n",
       "z1                                          z1                                         \n",
       "z2                                          z2                                         \n",
       "prestamos_minus_saldo                       prestamos_minus_saldo                      \n",
       "rentabilidad_annual_divided_by_comisiones   rentabilidad_annual_divided_by_comisiones  \n",
       "mcuentas_saldo                              mcuentas_saldo                             \n",
       "total_activos                               total_activos                              \n",
       "z3                                          z3                                         \n",
       "saldo_minus_caja                            saldo_minus_caja                           \n",
       "saldo_minus_payroll                         saldo_minus_payroll                        \n",
       "mcuenta_corriente                           mcuenta_corriente                          \n",
       "total_deuda                                 total_deuda                                \n",
       "prestamos_minus_nonnegative_saldo           prestamos_minus_nonnegative_saldo          \n",
       "active_quarter                              active_quarter                             \n",
       "ctrx_quarter                                ctrx_quarter                               \n",
       "z4                                          z4                                         \n",
       "rentabilidad_divided_by_comisiones          rentabilidad_divided_by_comisiones         \n",
       "rentabilidad_annual_divided_by_rentabilidad rentabilidad_annual_divided_by_rentabilidad\n",
       "comisiones_divided_by_ctrx                  comisiones_divided_by_ctrx                 \n",
       "ctrx_quarter_fix_edad                       ctrx_quarter_fix_edad                      \n",
       "ctrx_quarter_fix_edad2                      ctrx_quarter_fix_edad2                     \n",
       "ctrx_quarter_fix                            ctrx_quarter_fix                           \n",
       "mprestamos_personales                       mprestamos_personales                      \n",
       "mprestamos_personales_edad                  mprestamos_personales_edad                 \n",
       "mprestamos_personales_edad2                 mprestamos_personales_edad2                \n",
       "caja_minus_corriente                        caja_minus_corriente                       \n",
       "saldo_minus_corriente                       saldo_minus_corriente                      \n",
       "suma_consumos_divided_by_tarjetas           suma_consumos_divided_by_tarjetas          \n",
       "rentabilidad_minus_comisiones               rentabilidad_minus_comisiones              \n",
       "suma_consumos                               suma_consumos                              \n",
       "mcomisiones_mantenimiento                   mcomisiones_mantenimiento                  \n",
       "mrentabilidad_annual                        mrentabilidad_annual                       \n",
       "ctrx_quarter_fix_square                     ctrx_quarter_fix_square                    \n",
       "mrentabilidad                               mrentabilidad                              \n",
       "Visa_msaldopesos                            Visa_msaldopesos                           \n",
       "ctarjetas                                   ctarjetas                                  \n",
       "Visa_msaldototal                            Visa_msaldototal                           \n",
       "ctarjeta_master                             ctarjeta_master                            \n",
       "has_master                                  has_master                                 \n",
       "suma_saldos_prestamos                       suma_saldos_prestamos                      \n",
       "comisiones_divided_by_square                comisiones_divided_by_square               \n",
       "                                            Importancia\n",
       "z1                                          165.965663 \n",
       "z2                                           70.736319 \n",
       "prestamos_minus_saldo                        41.368578 \n",
       "rentabilidad_annual_divided_by_comisiones    36.461397 \n",
       "mcuentas_saldo                               33.999829 \n",
       "total_activos                                33.776206 \n",
       "z3                                           30.701569 \n",
       "saldo_minus_caja                             25.906626 \n",
       "saldo_minus_payroll                          25.348009 \n",
       "mcuenta_corriente                            23.528817 \n",
       "total_deuda                                  19.005699 \n",
       "prestamos_minus_nonnegative_saldo            17.469417 \n",
       "active_quarter                               16.804103 \n",
       "ctrx_quarter                                 14.924909 \n",
       "z4                                           14.505813 \n",
       "rentabilidad_divided_by_comisiones           14.021665 \n",
       "rentabilidad_annual_divided_by_rentabilidad  13.701865 \n",
       "comisiones_divided_by_ctrx                   13.531726 \n",
       "ctrx_quarter_fix_edad                        13.153916 \n",
       "ctrx_quarter_fix_edad2                       12.845446 \n",
       "ctrx_quarter_fix                             11.482055 \n",
       "mprestamos_personales                         8.961689 \n",
       "mprestamos_personales_edad                    8.704707 \n",
       "mprestamos_personales_edad2                   8.524227 \n",
       "caja_minus_corriente                          8.100920 \n",
       "saldo_minus_corriente                         7.522574 \n",
       "suma_consumos_divided_by_tarjetas             6.906011 \n",
       "rentabilidad_minus_comisiones                 6.670635 \n",
       "suma_consumos                                 5.921945 \n",
       "mcomisiones_mantenimiento                     5.220048 \n",
       "mrentabilidad_annual                          4.825255 \n",
       "ctrx_quarter_fix_square                       4.778153 \n",
       "mrentabilidad                                 4.740876 \n",
       "Visa_msaldopesos                              4.723476 \n",
       "ctarjetas                                     4.636851 \n",
       "Visa_msaldototal                              4.400688 \n",
       "ctarjeta_master                               4.179882 \n",
       "has_master                                    4.179882 \n",
       "suma_saldos_prestamos                         3.711884 \n",
       "comisiones_divided_by_square                  3.564656 "
      ]
     },
     "metadata": {},
     "output_type": "display_data"
    }
   ],
   "source": [
    "# Calcular el feature importance\n",
    "importancia <- modelo$variable.importance\n",
    "importancia <- data.frame(Variable = names(importancia), Importancia = importancia)\n",
    "\n",
    "head(importancia, n=40)"
   ]
  },
  {
   "cell_type": "code",
   "execution_count": 22,
   "metadata": {},
   "outputs": [],
   "source": [
    "fwrite(importancia,\n",
    "        file = \"./exp/KA4120/08_BOFinal_KA4120_005_FeImportance.csv\",\n",
    "        sep = \",\")"
   ]
  }
 ],
 "metadata": {
  "kernelspec": {
   "display_name": "R",
   "language": "R",
   "name": "ir"
  },
  "language_info": {
   "codemirror_mode": "r",
   "file_extension": ".r",
   "mimetype": "text/x-r-source",
   "name": "R",
   "pygments_lexer": "r",
   "version": "4.2.2"
  }
 },
 "nbformat": 4,
 "nbformat_minor": 4
}
